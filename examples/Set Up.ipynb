{
 "metadata": {
  "name": ""
 },
 "nbformat": 3,
 "nbformat_minor": 0,
 "worksheets": [
  {
   "cells": [
    {
     "cell_type": "code",
     "collapsed": false,
     "input": [
      "import instruments"
     ],
     "language": "python",
     "metadata": {},
     "outputs": [],
     "prompt_number": 1
    },
    {
     "cell_type": "code",
     "collapsed": false,
     "input": [
      "allins = instruments.find_all()\n",
      "allins"
     ],
     "language": "python",
     "metadata": {},
     "outputs": [
      {
       "metadata": {},
       "output_type": "pyout",
       "prompt_number": 2,
       "text": [
        "defaultdict(<type 'list'>, {u'AGILENT TECHNOLOGIES,DSO-X 2002A': [AGILENT_TECHNOLOGIESDSOX_2002A(product_id=u'MY51250766', device=<Device MY51250766 as <class 'instruments.device_adapters.USBDevice'>>)], 'TEST DEVICE': [TEST_DEVICE(product_id='PRODUCT 0', device=<Device PRODUCT 0 as <class 'instruments.device_adapters.TestDevice'>>), TEST_DEVICE(product_id='PRODUCT 1', device=<Device PRODUCT 1 as <class 'instruments.device_adapters.TestDevice'>>)], 'TEST DEVICE 2': [TEST_DEVICE_2(product_id='PRODUCT 2', device=<Device PRODUCT 2 as <class 'instruments.device_adapters.TestDevice'>>)]})"
       ]
      }
     ],
     "prompt_number": 2
    },
    {
     "cell_type": "code",
     "collapsed": false,
     "input": [
      "allins.keys()"
     ],
     "language": "python",
     "metadata": {},
     "outputs": [
      {
       "metadata": {},
       "output_type": "pyout",
       "prompt_number": 3,
       "text": [
        "[u'AGILENT TECHNOLOGIES,DSO-X 2002A', 'TEST DEVICE', 'TEST DEVICE 2']"
       ]
      }
     ],
     "prompt_number": 3
    },
    {
     "cell_type": "code",
     "collapsed": false,
     "input": [
      "oscid = allins.keys()[0]"
     ],
     "language": "python",
     "metadata": {},
     "outputs": [],
     "prompt_number": 4
    },
    {
     "cell_type": "code",
     "collapsed": false,
     "input": [
      "from instruments import models"
     ],
     "language": "python",
     "metadata": {},
     "outputs": [],
     "prompt_number": 5
    },
    {
     "cell_type": "code",
     "collapsed": false,
     "input": [
      "base = models.BaseInstrument.objects.create(name  = \"base\")"
     ],
     "language": "python",
     "metadata": {},
     "outputs": [],
     "prompt_number": 6
    },
    {
     "cell_type": "code",
     "collapsed": false,
     "input": [
      "base.create_command(name = \"idn\", command_string = \"*idn?\", description = \"Shows device idn.\")"
     ],
     "language": "python",
     "metadata": {},
     "outputs": [],
     "prompt_number": 7
    },
    {
     "cell_type": "code",
     "collapsed": false,
     "input": [
      "osc = instruments.create_instrument(name = \"osc\", base_instrument = \"base\", device_id = oscid)"
     ],
     "language": "python",
     "metadata": {},
     "outputs": [],
     "prompt_number": 8
    },
    {
     "cell_type": "code",
     "collapsed": false,
     "input": [
      "osc.idn?"
     ],
     "language": "python",
     "metadata": {},
     "outputs": [],
     "prompt_number": 9
    },
    {
     "cell_type": "code",
     "collapsed": false,
     "input": [
      "osc.idn()"
     ],
     "language": "python",
     "metadata": {},
     "outputs": [
      {
       "metadata": {},
       "output_type": "pyout",
       "prompt_number": 10,
       "text": [
        "u'AGILENT TECHNOLOGIES,DSO-X 2002A,MY51250766,01.10.2011042700'"
       ]
      }
     ],
     "prompt_number": 10
    },
    {
     "cell_type": "code",
     "collapsed": false,
     "input": [
      "osc.device.write(\"Channel1:scale 1\")"
     ],
     "language": "python",
     "metadata": {},
     "outputs": [],
     "prompt_number": 11
    },
    {
     "cell_type": "code",
     "collapsed": false,
     "input": [
      "osc.create_command(name = \"set_vertical_scale\", command_string = \"CHANNEL{n}:scale {volts}\")"
     ],
     "language": "python",
     "metadata": {},
     "outputs": [],
     "prompt_number": 12
    },
    {
     "cell_type": "code",
     "collapsed": false,
     "input": [
      "osc.set_vertical_scale?"
     ],
     "language": "python",
     "metadata": {},
     "outputs": [],
     "prompt_number": 13
    },
    {
     "cell_type": "code",
     "collapsed": false,
     "input": [
      "osc.set_vertical_scale(1,0.5)"
     ],
     "language": "python",
     "metadata": {},
     "outputs": [],
     "prompt_number": 14
    },
    {
     "cell_type": "code",
     "collapsed": false,
     "input": [],
     "language": "python",
     "metadata": {},
     "outputs": []
    }
   ],
   "metadata": {}
  }
 ]
}