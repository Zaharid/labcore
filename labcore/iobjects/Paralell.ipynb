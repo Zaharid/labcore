{
 "metadata": {
  "name": "",
  "signature": "sha256:d7e3de4af2b320d302da5d76a21c249470b42aa6975bff49cf820da1dd976b09"
 },
 "nbformat": 3,
 "nbformat_minor": 0,
 "worksheets": [
  {
   "cells": [
    {
     "cell_type": "code",
     "collapsed": false,
     "input": [
      "from IPython.parallel import Client"
     ],
     "language": "python",
     "metadata": {},
     "outputs": [],
     "prompt_number": 4
    },
    {
     "cell_type": "code",
     "collapsed": false,
     "input": [
      "c = Client()"
     ],
     "language": "python",
     "metadata": {},
     "outputs": [],
     "prompt_number": 5
    },
    {
     "cell_type": "code",
     "collapsed": false,
     "input": [
      "from IPython import parallel\n",
      "from IPython.parallel import client"
     ],
     "language": "python",
     "metadata": {},
     "outputs": [],
     "prompt_number": 2
    },
    {
     "cell_type": "code",
     "collapsed": false,
     "input": [
      "parallel.client"
     ],
     "language": "python",
     "metadata": {},
     "outputs": [
      {
       "metadata": {},
       "output_type": "pyout",
       "prompt_number": 5,
       "text": [
        "<module 'IPython.parallel.client' from '/home/zah/sourcecode/ipython/IPython/parallel/client/__init__.py'>"
       ]
      }
     ],
     "prompt_number": 5
    },
    {
     "cell_type": "code",
     "collapsed": false,
     "input": [
      "client."
     ],
     "language": "python",
     "metadata": {},
     "outputs": [
      {
       "metadata": {},
       "output_type": "pyout",
       "prompt_number": 8,
       "text": [
        "<module 'IPython.parallel.client' from '/home/zah/sourcecode/ipython/IPython/parallel/client/__init__.py'>"
       ]
      }
     ],
     "prompt_number": 8
    },
    {
     "cell_type": "code",
     "collapsed": false,
     "input": [
      "v = c[:]"
     ],
     "language": "python",
     "metadata": {},
     "outputs": [],
     "prompt_number": 6
    },
    {
     "cell_type": "code",
     "collapsed": false,
     "input": [
      "v.targets"
     ],
     "language": "python",
     "metadata": {},
     "outputs": [
      {
       "metadata": {},
       "output_type": "pyout",
       "prompt_number": 16,
       "text": [
        "[0, 1, 2, 3]"
       ]
      }
     ],
     "prompt_number": 16
    },
    {
     "cell_type": "code",
     "collapsed": false,
     "input": [
      "with v.temp_flags(targets = [0,1,], block = True):\n",
      "    print (v.apply(lambda x:x, 1))"
     ],
     "language": "python",
     "metadata": {},
     "outputs": [
      {
       "output_type": "stream",
       "stream": "stdout",
       "text": [
        "[1, 1]\n"
       ]
      }
     ],
     "prompt_number": 14
    },
    {
     "cell_type": "code",
     "collapsed": false,
     "input": [
      "v.results"
     ],
     "language": "python",
     "metadata": {},
     "outputs": [
      {
       "metadata": {},
       "output_type": "pyout",
       "prompt_number": 15,
       "text": [
        "defaultdict(<class 'dict'>, {'5db33fb2-c462-4950-a6c9-3d177b94d529': 1, '670747f0-887b-4cb6-81c3-c92aa3b8c6cf': 1, '5baced5c-3392-4ba8-bf98-295e05139029': 1, '29458b21-ef15-44a6-906e-320a1561d527': 1, '17d2c933-a0bf-4f23-8e27-0b39880e95eb': 1, '6430f3ef-997c-418b-b5df-62e183b23ef5': 1, 'f350de19-f6b1-48b5-b656-b894edee961b': 1, '410f8072-9e9e-4daf-91a7-ca98037401dd': 1, 'c59e988e-43d3-4162-8b8c-2ce513a7af22': 1, '08e7aafd-0ed5-4fc9-86ea-1aca50d2aed6': 1, '2ca448f4-ff37-4488-b0ad-258ccc0fcdb1': 1})"
       ]
      }
     ],
     "prompt_number": 15
    },
    {
     "cell_type": "code",
     "collapsed": false,
     "input": [
      "v.apply(lambda x:x, 1, block = True)"
     ],
     "language": "python",
     "metadata": {},
     "outputs": [
      {
       "metadata": {},
       "output_type": "pyout",
       "prompt_number": 12,
       "text": [
        "<AsyncResult: <lambda>>"
       ]
      }
     ],
     "prompt_number": 12
    },
    {
     "cell_type": "code",
     "collapsed": false,
     "input": [],
     "language": "python",
     "metadata": {},
     "outputs": []
    }
   ],
   "metadata": {}
  }
 ]
}