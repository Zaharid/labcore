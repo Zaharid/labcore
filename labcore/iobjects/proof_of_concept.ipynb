{
 "metadata": {
  "name": "",
  "signature": "sha256:128033c8f0aba7d1968e6d46957b76053bf4a0383cbac2ccac3c255add66da5e"
 },
 "nbformat": 3,
 "nbformat_minor": 0,
 "worksheets": [
  {
   "cells": [
    {
     "cell_type": "code",
     "collapsed": false,
     "input": [
      "%load_ext autoreload\n",
      "%autoreload 2"
     ],
     "language": "python",
     "metadata": {},
     "outputs": [],
     "prompt_number": 1
    },
    {
     "cell_type": "code",
     "collapsed": false,
     "input": [
      "from labcore.mongotraits.documents import  connect\n",
      "connect(\"test\")\n",
      "from models import *\n",
      "g =  IOGraph(name = \"Test Graph\")"
     ],
     "language": "python",
     "metadata": {},
     "outputs": [],
     "prompt_number": 2
    },
    {
     "cell_type": "code",
     "collapsed": false,
     "input": [
      "\n",
      "\n",
      "ions = []\n",
      "for i in range(5):\n",
      "    io = IOSimple(name = \"io%d\"%i)\n",
      "    i1 = Input(name = \"i1\")\n",
      "    i2 = Input(name = \"i2\")\n",
      "    o1 = Output(name = \"o1\")\n",
      "    o2 = Output(name = \"o2\")\n",
      "    io.inputs = [i1,i2]\n",
      "    io.outputs = [o1,o2]\n",
      "    io.save()\n",
      "    ion = IONode(io)\n",
      "    ions += [ion]\n",
      "\n",
      "g.nodes = ions\n",
      "g.bind( ions[0], 'o1', ions[1], 'i1')\n",
      "g.bind( ions[1], 'o1', ions[2], 'i1')\n",
      "g.bind( ions[1], 'o2', ions[3], 'i2')\n",
      "g.bind( ions[3], 'o2', ions[4], 'i2')\n",
      "g.bind( ions[2], 'o1', ions[4], 'i1')\n",
      "for ion in ions:\n",
      "    ion.save()\n",
      "g.save()"
     ],
     "language": "python",
     "metadata": {},
     "outputs": [],
     "prompt_number": 3
    },
    {
     "cell_type": "code",
     "collapsed": false,
     "input": [
      "g.make_control()"
     ],
     "language": "python",
     "metadata": {},
     "outputs": [],
     "prompt_number": 4
    },
    {
     "cell_type": "code",
     "collapsed": false,
     "input": [
      "g.save_all()"
     ],
     "language": "python",
     "metadata": {},
     "outputs": [],
     "prompt_number": 5
    },
    {
     "cell_type": "code",
     "collapsed": false,
     "input": [
      "del g"
     ],
     "language": "python",
     "metadata": {},
     "outputs": [],
     "prompt_number": 6
    },
    {
     "cell_type": "code",
     "collapsed": false,
     "input": [
      "g = IOGraph.find_one()"
     ],
     "language": "python",
     "metadata": {},
     "outputs": [],
     "prompt_number": 6
    },
    {
     "cell_type": "code",
     "collapsed": false,
     "input": [
      "g.make_control()"
     ],
     "language": "python",
     "metadata": {},
     "outputs": [],
     "prompt_number": 7
    },
    {
     "cell_type": "code",
     "collapsed": false,
     "input": [
      "%matplotlib inline\n",
      "g.draw_graph()"
     ],
     "language": "python",
     "metadata": {},
     "outputs": [
      {
       "metadata": {},
       "output_type": "display_data",
       "png": "[encoded data removed]",
       "text": [
        "<matplotlib.figure.Figure at 0x5442a10>"
       ]
      }
     ],
     "prompt_number": 10
    },
    {
     "cell_type": "code",
     "collapsed": false,
     "input": [],
     "language": "python",
     "metadata": {},
     "outputs": []
    }
   ],
   "metadata": {}
  }
 ]
}