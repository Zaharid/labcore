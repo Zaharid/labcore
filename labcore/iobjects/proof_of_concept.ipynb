{
 "metadata": {
  "name": "",
  "signature": "sha256:16d90c44245ebab56df172151a58e4f84496008dd0e20dfb933e9e4bab6537ac"
 },
 "nbformat": 3,
 "nbformat_minor": 0,
 "worksheets": [
  {
   "cells": [
    {
     "cell_type": "code",
     "collapsed": false,
     "input": [
      "%load_ext autoreload\n",
      "%autoreload 2"
     ],
     "language": "python",
     "metadata": {},
     "outputs": [],
     "prompt_number": 1
    },
    {
     "cell_type": "code",
     "collapsed": false,
     "input": [
      "from labcore.mongotraits.documents import  connect\n",
      "connect(\"test\")"
     ],
     "language": "python",
     "metadata": {},
     "outputs": [],
     "prompt_number": 2
    },
    {
     "cell_type": "code",
     "collapsed": false,
     "input": [
      "\n",
      "from models import *\n",
      "g =  IOGraph()\n",
      "ions = []\n",
      "for i in range(5):\n",
      "    io = IOSimple(name = \"io%d\"%i)\n",
      "    i1 = Input(name = \"i1\")\n",
      "    i2 = Input(name = \"i2\")\n",
      "    o1 = Output(name = \"o1\")\n",
      "    o2 = Output(name = \"o2\")\n",
      "    io.inputs = [i1,i2]\n",
      "    io.outputs = [o1,o2]\n",
      "    io.save()\n",
      "    ion = IONode(io)\n",
      "    ions += [ion]\n",
      "\n",
      "g.nodes = ions\n",
      "g.bind( ions[0], 'o1', ions[1], 'i1')\n",
      "g.bind( ions[1], 'o1', ions[2], 'i1')\n",
      "g.bind( ions[1], 'o2', ions[3], 'i2')\n",
      "g.bind( ions[3], 'o2', ions[4], 'i2')\n",
      "g.bind( ions[2], 'o1', ions[4], 'i1')\n",
      "for ion in ions:\n",
      "    ion.save()\n",
      "g.save()"
     ],
     "language": "python",
     "metadata": {},
     "outputs": [],
     "prompt_number": 3
    },
    {
     "cell_type": "code",
     "collapsed": false,
     "input": [
      "g.make_control()"
     ],
     "language": "python",
     "metadata": {},
     "outputs": [],
     "prompt_number": 4
    }
   ],
   "metadata": {}
  }
 ]
}