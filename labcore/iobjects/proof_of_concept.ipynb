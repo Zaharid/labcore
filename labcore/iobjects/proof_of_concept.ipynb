{
 "metadata": {
  "name": "",
  "signature": "sha256:33c93603d80a7dc1bbaea5cc27577867d28556c56a8ae2ebfdf8011a004820c4"
 },
 "nbformat": 3,
 "nbformat_minor": 0,
 "worksheets": [
  {
   "cells": [
    {
     "cell_type": "code",
     "collapsed": false,
     "input": [
      "from tests import *\n",
      "from IPython.html import widgets"
     ],
     "language": "python",
     "metadata": {},
     "outputs": [],
     "prompt_number": 1
    },
    {
     "cell_type": "code",
     "collapsed": false,
     "input": [
      "from models import get_none\n",
      "get_none()"
     ],
     "language": "python",
     "metadata": {},
     "outputs": [
      {
       "metadata": {},
       "output_type": "pyout",
       "prompt_number": 2,
       "text": [
        "<IPython.utils.traitlets.NoDefaultSpecified at 0x7fdf18953b50>"
       ]
      }
     ],
     "prompt_number": 2
    },
    {
     "cell_type": "code",
     "collapsed": false,
     "input": [
      "w = io1.make_control()"
     ],
     "language": "python",
     "metadata": {},
     "outputs": [],
     "prompt_number": 3
    },
    {
     "cell_type": "code",
     "collapsed": false,
     "input": [
      "w.children = w.children+[widgets.LatexWidget(value = \"FNP\")]"
     ],
     "language": "python",
     "metadata": {},
     "outputs": [],
     "prompt_number": 10
    },
    {
     "cell_type": "code",
     "collapsed": false,
     "input": [
      "io"
     ],
     "language": "python",
     "metadata": {},
     "outputs": [
      {
       "metadata": {},
       "output_type": "pyout",
       "prompt_number": 5,
       "text": [
        "<IOSimple: IO4>"
       ]
      }
     ],
     "prompt_number": 5
    },
    {
     "cell_type": "code",
     "collapsed": false,
     "input": [
      "w.children"
     ],
     "language": "python",
     "metadata": {},
     "outputs": [
      {
       "metadata": {},
       "output_type": "pyout",
       "prompt_number": 4,
       "text": [
        "[<IPython.html.widgets.widget_string.LatexWidget at 0x218d9d0>]"
       ]
      }
     ],
     "prompt_number": 4
    },
    {
     "cell_type": "code",
     "collapsed": false,
     "input": [
      "w.children[1]"
     ],
     "language": "python",
     "metadata": {},
     "outputs": [],
     "prompt_number": 7
    },
    {
     "cell_type": "code",
     "collapsed": false,
     "input": [
      "w.children[0].children[1]"
     ],
     "language": "python",
     "metadata": {},
     "outputs": [],
     "prompt_number": 9
    },
    {
     "cell_type": "code",
     "collapsed": false,
     "input": [
      "from IPython.display import display"
     ],
     "language": "python",
     "metadata": {},
     "outputs": [],
     "prompt_number": 10
    },
    {
     "cell_type": "code",
     "collapsed": false,
     "input": [
      "display(w)"
     ],
     "language": "python",
     "metadata": {},
     "outputs": [],
     "prompt_number": 11
    },
    {
     "cell_type": "code",
     "collapsed": false,
     "input": [
      "w.visible = True"
     ],
     "language": "python",
     "metadata": {},
     "outputs": [],
     "prompt_number": 15
    },
    {
     "cell_type": "code",
     "collapsed": false,
     "input": [
      "w"
     ],
     "language": "python",
     "metadata": {},
     "outputs": [],
     "prompt_number": 5
    },
    {
     "cell_type": "code",
     "collapsed": false,
     "input": [
      "w = widgets.LatexWidget()"
     ],
     "language": "python",
     "metadata": {},
     "outputs": [],
     "prompt_number": 3
    },
    {
     "cell_type": "code",
     "collapsed": false,
     "input": [
      "w.value"
     ],
     "language": "python",
     "metadata": {},
     "outputs": [
      {
       "metadata": {},
       "output_type": "pyout",
       "prompt_number": 4,
       "text": [
        "u''"
       ]
      }
     ],
     "prompt_number": 4
    },
    {
     "cell_type": "code",
     "collapsed": false,
     "input": [
      "w.traits()"
     ],
     "language": "python",
     "metadata": {},
     "outputs": [
      {
       "metadata": {},
       "output_type": "pyout",
       "prompt_number": 6,
       "text": [
        "{'_comm': <IPython.utils.traitlets.Instance at 0x2c9a390>,\n",
        " '_css': <IPython.utils.traitlets.Dict at 0x2c9a810>,\n",
        " '_display_callbacks': <IPython.utils.traitlets.Instance at 0x2c9a5d0>,\n",
        " '_model_name': <IPython.utils.traitlets.Unicode at 0x2c9a310>,\n",
        " '_msg_callbacks': <IPython.utils.traitlets.Instance at 0x2c9a650>,\n",
        " '_property_lock': <IPython.utils.traitlets.Tuple at 0x2c9a510>,\n",
        " '_view_name': <IPython.utils.traitlets.Unicode at 0x2ca5a90>,\n",
        " 'closed': <IPython.utils.traitlets.Bool at 0x2c9a3d0>,\n",
        " 'config': <IPython.utils.traitlets.Instance at 0x7f2163be9cd0>,\n",
        " 'description': <IPython.utils.traitlets.Unicode at 0x2ca5990>,\n",
        " 'disabled': <IPython.utils.traitlets.Bool at 0x2ca5950>,\n",
        " 'keys': <IPython.utils.traitlets.List at 0x2c9a410>,\n",
        " 'log': <IPython.utils.traitlets.Instance at 0x7f2163c02610>,\n",
        " 'parent': <IPython.utils.traitlets.Instance at 0x7f2163be9f50>,\n",
        " 'value': <IPython.utils.traitlets.Unicode at 0x2ca58d0>,\n",
        " 'visible': <IPython.utils.traitlets.Bool at 0x2c9a7d0>}"
       ]
      }
     ],
     "prompt_number": 6
    },
    {
     "cell_type": "code",
     "collapsed": false,
     "input": [
      "w.keys\n"
     ],
     "language": "python",
     "metadata": {},
     "outputs": [
      {
       "metadata": {},
       "output_type": "pyout",
       "prompt_number": 7,
       "text": [
        "['_view_name', 'description', '_css', 'value', 'disabled', 'visible']"
       ]
      }
     ],
     "prompt_number": 7
    },
    {
     "cell_type": "code",
     "collapsed": false,
     "input": [
      "w.traits()['value'].validate(w.traits()['value'],\"aa\")"
     ],
     "language": "python",
     "metadata": {},
     "outputs": [
      {
       "metadata": {},
       "output_type": "pyout",
       "prompt_number": 14,
       "text": [
        "u'aa'"
       ]
      }
     ],
     "prompt_number": 14
    },
    {
     "cell_type": "code",
     "collapsed": false,
     "input": [],
     "language": "python",
     "metadata": {},
     "outputs": []
    }
   ],
   "metadata": {}
  }
 ]
}