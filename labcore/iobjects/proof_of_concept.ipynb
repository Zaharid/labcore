{
 "metadata": {
  "name": "",
  "signature": "sha256:adf9136770447e38265b2134f9b766fffef4aabd76f934977cf6c0300aeaa24f"
 },
 "nbformat": 3,
 "nbformat_minor": 0,
 "worksheets": [
  {
   "cells": [
    {
     "cell_type": "heading",
     "level": 1,
     "metadata": {},
     "source": [
      "Interfaz iobjects"
     ]
    },
    {
     "cell_type": "code",
     "collapsed": false,
     "input": [
      "from models import *\n",
      "from labcore.iobjects import parallel_client\n",
      "from labcore.mongotraits.documents import  connect\n",
      "connect(\"test\")\n",
      "parallel_client.load_client()"
     ],
     "language": "python",
     "metadata": {},
     "outputs": [],
     "prompt_number": 7
    },
    {
     "cell_type": "markdown",
     "metadata": {},
     "source": [
      "Una funci\u00f3n puede ser promovida a `IObject`:"
     ]
    },
    {
     "cell_type": "code",
     "collapsed": false,
     "input": [
      "@iobject\n",
      "def iosimple(i1 : 'String', i2 : 'String') -> [('o1', 'String'), ('o2', 'String')]:\n",
      "    import time\n",
      "    from labcore.iobjects.models import IObject\n",
      "    time.sleep(1)\n",
      "    return {'o1':i1, 'o2':i2}"
     ],
     "language": "python",
     "metadata": {},
     "outputs": [],
     "prompt_number": 8
    },
    {
     "cell_type": "code",
     "collapsed": false,
     "input": [
      "iosimple(1,2)"
     ],
     "language": "python",
     "metadata": {},
     "outputs": [
      {
       "metadata": {},
       "output_type": "pyout",
       "prompt_number": 9,
       "text": [
        "{'o1': 1, 'o2': 2}"
       ]
      }
     ],
     "prompt_number": 9
    },
    {
     "cell_type": "markdown",
     "metadata": {},
     "source": [
      "Podemos usarla para formar nodos, y unir los nodos para formar grafos:"
     ]
    },
    {
     "cell_type": "code",
     "collapsed": false,
     "input": [
      "ions = []\n",
      "for i in range(5):\n",
      "    ions.append(IONode(iosimple, name = \"Node %d\" % i))\n",
      "g = IOGraph(name = \"Graph\")\n",
      "g.bind( ions[0], 'o1', ions[1], 'i1')\n",
      "g.bind( ions[1], 'o1', ions[2], 'i1')\n",
      "g.bind( ions[1], 'o2', ions[3], 'i2')\n",
      "g.bind( ions[3], 'o2', ions[4], 'i2')\n",
      "g.bind( ions[2], 'o1', ions[4], 'i1')"
     ],
     "language": "python",
     "metadata": {},
     "outputs": [],
     "prompt_number": 10
    },
    {
     "cell_type": "markdown",
     "metadata": {},
     "source": [
      "Lo que hemos dibujado tiene este aspecto:"
     ]
    },
    {
     "cell_type": "code",
     "collapsed": false,
     "input": [
      "%matplotlib inline\n",
      "g.draw_graph()"
     ],
     "language": "python",
     "metadata": {},
     "outputs": [
      {
       "metadata": {},
       "output_type": "display_data",
       "png": "[encoded data removed]",
       "text": [
        "<matplotlib.figure.Figure at 0x7f2001691810>"
       ]
      }
     ],
     "prompt_number": 11
    },
    {
     "cell_type": "heading",
     "level": 3,
     "metadata": {},
     "source": [
      "Interfaz gr\u00e1fica"
     ]
    },
    {
     "cell_type": "markdown",
     "metadata": {},
     "source": [
      "Podemos controlar el grafo mediante una interfaz gr\u00e1fica:"
     ]
    },
    {
     "cell_type": "code",
     "collapsed": false,
     "input": [
      "g.make_control()"
     ],
     "language": "python",
     "metadata": {},
     "outputs": [
      {
       "ename": "RemoteError",
       "evalue": "ImportError(No module named 'models')",
       "output_type": "pyerr",
       "traceback": [
        "\u001b[1;31m---------------------------------------------------------------------------\u001b[0m",
        "\u001b[1;31mImportError\u001b[0m                               Traceback (most recent call last)\u001b[1;32m/home/zah/sourcecode/ipython/IPython/kernel/zmq/serialize.py\u001b[0m in \u001b[0;36munpack_apply_message\u001b[1;34m(bufs, g, copy)\u001b[0m",
        "\u001b[0;32m    178\u001b[0m         \u001b[1;32mfor\u001b[0m \u001b[0mi\u001b[0m \u001b[1;32min\u001b[0m \u001b[0mrange\u001b[0m\u001b[1;33m(\u001b[0m\u001b[1;36m2\u001b[0m\u001b[1;33m)\u001b[0m\u001b[1;33m:\u001b[0m\u001b[1;33m\u001b[0m\u001b[0m",
        "\u001b[0;32m    179\u001b[0m             \u001b[0mbufs\u001b[0m\u001b[1;33m[\u001b[0m\u001b[0mi\u001b[0m\u001b[1;33m]\u001b[0m \u001b[1;33m=\u001b[0m \u001b[0mbufs\u001b[0m\u001b[1;33m[\u001b[0m\u001b[0mi\u001b[0m\u001b[1;33m]\u001b[0m\u001b[1;33m.\u001b[0m\u001b[0mbytes\u001b[0m\u001b[1;33m\u001b[0m\u001b[0m",
        "\u001b[1;32m--> 180\u001b[1;33m     \u001b[0mf\u001b[0m \u001b[1;33m=\u001b[0m \u001b[0muncan\u001b[0m\u001b[1;33m(\u001b[0m\u001b[0mpickle\u001b[0m\u001b[1;33m.\u001b[0m\u001b[0mloads\u001b[0m\u001b[1;33m(\u001b[0m\u001b[0mbufs\u001b[0m\u001b[1;33m.\u001b[0m\u001b[0mpop\u001b[0m\u001b[1;33m(\u001b[0m\u001b[1;36m0\u001b[0m\u001b[1;33m)\u001b[0m\u001b[1;33m)\u001b[0m\u001b[1;33m,\u001b[0m \u001b[0mg\u001b[0m\u001b[1;33m)\u001b[0m\u001b[1;33m\u001b[0m\u001b[0m",
        "\u001b[0m\u001b[0;32m    181\u001b[0m     \u001b[0minfo\u001b[0m \u001b[1;33m=\u001b[0m \u001b[0mpickle\u001b[0m\u001b[1;33m.\u001b[0m\u001b[0mloads\u001b[0m\u001b[1;33m(\u001b[0m\u001b[0mbufs\u001b[0m\u001b[1;33m.\u001b[0m\u001b[0mpop\u001b[0m\u001b[1;33m(\u001b[0m\u001b[1;36m0\u001b[0m\u001b[1;33m)\u001b[0m\u001b[1;33m)\u001b[0m\u001b[1;33m\u001b[0m\u001b[0m",
        "\u001b[0;32m    182\u001b[0m     \u001b[0marg_bufs\u001b[0m\u001b[1;33m,\u001b[0m \u001b[0mkwarg_bufs\u001b[0m \u001b[1;33m=\u001b[0m \u001b[0mbufs\u001b[0m\u001b[1;33m[\u001b[0m\u001b[1;33m:\u001b[0m\u001b[0minfo\u001b[0m\u001b[1;33m[\u001b[0m\u001b[1;34m'narg_bufs'\u001b[0m\u001b[1;33m]\u001b[0m\u001b[1;33m]\u001b[0m\u001b[1;33m,\u001b[0m \u001b[0mbufs\u001b[0m\u001b[1;33m[\u001b[0m\u001b[0minfo\u001b[0m\u001b[1;33m[\u001b[0m\u001b[1;34m'narg_bufs'\u001b[0m\u001b[1;33m]\u001b[0m\u001b[1;33m:\u001b[0m\u001b[1;33m]\u001b[0m\u001b[1;33m\u001b[0m\u001b[0m",
        "\u001b[1;32m/home/zah/miniconda/envs/lc3/lib/python3.3/site-packages/dill/dill.py\u001b[0m in \u001b[0;36mloads\u001b[1;34m(str)\u001b[0m",
        "\u001b[0;32m    158\u001b[0m     \u001b[1;34m\"\"\"unpickle an object from a string\"\"\"\u001b[0m\u001b[1;33m\u001b[0m\u001b[0m",
        "\u001b[0;32m    159\u001b[0m     \u001b[0mfile\u001b[0m \u001b[1;33m=\u001b[0m \u001b[0mStringIO\u001b[0m\u001b[1;33m(\u001b[0m\u001b[0mstr\u001b[0m\u001b[1;33m)\u001b[0m\u001b[1;33m\u001b[0m\u001b[0m",
        "\u001b[1;32m--> 160\u001b[1;33m     \u001b[1;32mreturn\u001b[0m \u001b[0mload\u001b[0m\u001b[1;33m(\u001b[0m\u001b[0mfile\u001b[0m\u001b[1;33m)\u001b[0m\u001b[1;33m\u001b[0m\u001b[0m",
        "\u001b[0m\u001b[0;32m    161\u001b[0m \u001b[1;33m\u001b[0m\u001b[0m",
        "\u001b[0;32m    162\u001b[0m \u001b[1;31m# def dumpzs(obj, protocol=None):\u001b[0m\u001b[1;33m\u001b[0m\u001b[1;33m\u001b[0m\u001b[0m",
        "\u001b[1;32m/home/zah/miniconda/envs/lc3/lib/python3.3/site-packages/dill/dill.py\u001b[0m in \u001b[0;36mload\u001b[1;34m(file)\u001b[0m",
        "\u001b[0;32m    148\u001b[0m     \u001b[0mpik\u001b[0m \u001b[1;33m=\u001b[0m \u001b[0mUnpickler\u001b[0m\u001b[1;33m(\u001b[0m\u001b[0mfile\u001b[0m\u001b[1;33m)\u001b[0m\u001b[1;33m\u001b[0m\u001b[0m",
        "\u001b[0;32m    149\u001b[0m     \u001b[0mpik\u001b[0m\u001b[1;33m.\u001b[0m\u001b[0m_main_module\u001b[0m \u001b[1;33m=\u001b[0m \u001b[0m_main_module\u001b[0m\u001b[1;33m\u001b[0m\u001b[0m",
        "\u001b[1;32m--> 150\u001b[1;33m     \u001b[0mobj\u001b[0m \u001b[1;33m=\u001b[0m \u001b[0mpik\u001b[0m\u001b[1;33m.\u001b[0m\u001b[0mload\u001b[0m\u001b[1;33m(\u001b[0m\u001b[1;33m)\u001b[0m\u001b[1;33m\u001b[0m\u001b[0m",
        "\u001b[0m\u001b[0;32m    151\u001b[0m     \u001b[1;32mif\u001b[0m \u001b[0mtype\u001b[0m\u001b[1;33m(\u001b[0m\u001b[0mobj\u001b[0m\u001b[1;33m)\u001b[0m\u001b[1;33m.\u001b[0m\u001b[0m__module__\u001b[0m \u001b[1;33m==\u001b[0m \u001b[0m_main_module\u001b[0m\u001b[1;33m.\u001b[0m\u001b[0m__name__\u001b[0m\u001b[1;33m:\u001b[0m \u001b[1;31m# point obj class to main\u001b[0m\u001b[1;33m\u001b[0m\u001b[0m",
        "\u001b[0;32m    152\u001b[0m         \u001b[1;32mtry\u001b[0m\u001b[1;33m:\u001b[0m \u001b[0mobj\u001b[0m\u001b[1;33m.\u001b[0m\u001b[0m__class__\u001b[0m \u001b[1;33m==\u001b[0m \u001b[0mgetattr\u001b[0m\u001b[1;33m(\u001b[0m\u001b[0mpik\u001b[0m\u001b[1;33m.\u001b[0m\u001b[0m_main_module\u001b[0m\u001b[1;33m,\u001b[0m \u001b[0mtype\u001b[0m\u001b[1;33m(\u001b[0m\u001b[0mobj\u001b[0m\u001b[1;33m)\u001b[0m\u001b[1;33m.\u001b[0m\u001b[0m__name__\u001b[0m\u001b[1;33m)\u001b[0m\u001b[1;33m\u001b[0m\u001b[0m",
        "\u001b[1;32m/home/zah/miniconda/envs/lc3/lib/python3.3/pickle.py\u001b[0m in \u001b[0;36mload\u001b[1;34m(self)\u001b[0m",
        "\u001b[0;32m    847\u001b[0m                     \u001b[1;32mraise\u001b[0m \u001b[0mEOFError\u001b[0m\u001b[1;33m\u001b[0m\u001b[0m",
        "\u001b[0;32m    848\u001b[0m                 \u001b[1;32massert\u001b[0m \u001b[0misinstance\u001b[0m\u001b[1;33m(\u001b[0m\u001b[0mkey\u001b[0m\u001b[1;33m,\u001b[0m \u001b[0mbytes_types\u001b[0m\u001b[1;33m)\u001b[0m\u001b[1;33m\u001b[0m\u001b[0m",
        "\u001b[1;32m--> 849\u001b[1;33m                 \u001b[0mdispatch\u001b[0m\u001b[1;33m[\u001b[0m\u001b[0mkey\u001b[0m\u001b[1;33m[\u001b[0m\u001b[1;36m0\u001b[0m\u001b[1;33m]\u001b[0m\u001b[1;33m]\u001b[0m\u001b[1;33m(\u001b[0m\u001b[0mself\u001b[0m\u001b[1;33m)\u001b[0m\u001b[1;33m\u001b[0m\u001b[0m",
        "\u001b[0m\u001b[0;32m    850\u001b[0m         \u001b[1;32mexcept\u001b[0m \u001b[0m_Stop\u001b[0m \u001b[1;32mas\u001b[0m \u001b[0mstopinst\u001b[0m\u001b[1;33m:\u001b[0m\u001b[1;33m\u001b[0m\u001b[0m",
        "\u001b[0;32m    851\u001b[0m             \u001b[1;32mreturn\u001b[0m \u001b[0mstopinst\u001b[0m\u001b[1;33m.\u001b[0m\u001b[0mvalue\u001b[0m\u001b[1;33m\u001b[0m\u001b[0m",
        "\u001b[1;32m/home/zah/miniconda/envs/lc3/lib/python3.3/pickle.py\u001b[0m in \u001b[0;36mload_global\u001b[1;34m(self)\u001b[0m",
        "\u001b[0;32m   1099\u001b[0m         \u001b[0mmodule\u001b[0m \u001b[1;33m=\u001b[0m \u001b[0mself\u001b[0m\u001b[1;33m.\u001b[0m\u001b[0mreadline\u001b[0m\u001b[1;33m(\u001b[0m\u001b[1;33m)\u001b[0m\u001b[1;33m[\u001b[0m\u001b[1;33m:\u001b[0m\u001b[1;33m-\u001b[0m\u001b[1;36m1\u001b[0m\u001b[1;33m]\u001b[0m\u001b[1;33m.\u001b[0m\u001b[0mdecode\u001b[0m\u001b[1;33m(\u001b[0m\u001b[1;34m\"utf-8\"\u001b[0m\u001b[1;33m)\u001b[0m\u001b[1;33m\u001b[0m\u001b[0m",
        "\u001b[0;32m   1100\u001b[0m         \u001b[0mname\u001b[0m \u001b[1;33m=\u001b[0m \u001b[0mself\u001b[0m\u001b[1;33m.\u001b[0m\u001b[0mreadline\u001b[0m\u001b[1;33m(\u001b[0m\u001b[1;33m)\u001b[0m\u001b[1;33m[\u001b[0m\u001b[1;33m:\u001b[0m\u001b[1;33m-\u001b[0m\u001b[1;36m1\u001b[0m\u001b[1;33m]\u001b[0m\u001b[1;33m.\u001b[0m\u001b[0mdecode\u001b[0m\u001b[1;33m(\u001b[0m\u001b[1;34m\"utf-8\"\u001b[0m\u001b[1;33m)\u001b[0m\u001b[1;33m\u001b[0m\u001b[0m",
        "\u001b[1;32m-> 1101\u001b[1;33m         \u001b[0mklass\u001b[0m \u001b[1;33m=\u001b[0m \u001b[0mself\u001b[0m\u001b[1;33m.\u001b[0m\u001b[0mfind_class\u001b[0m\u001b[1;33m(\u001b[0m\u001b[0mmodule\u001b[0m\u001b[1;33m,\u001b[0m \u001b[0mname\u001b[0m\u001b[1;33m)\u001b[0m\u001b[1;33m\u001b[0m\u001b[0m",
        "\u001b[0m\u001b[0;32m   1102\u001b[0m         \u001b[0mself\u001b[0m\u001b[1;33m.\u001b[0m\u001b[0mappend\u001b[0m\u001b[1;33m(\u001b[0m\u001b[0mklass\u001b[0m\u001b[1;33m)\u001b[0m\u001b[1;33m\u001b[0m\u001b[0m",
        "\u001b[0;32m   1103\u001b[0m     \u001b[0mdispatch\u001b[0m\u001b[1;33m[\u001b[0m\u001b[0mGLOBAL\u001b[0m\u001b[1;33m[\u001b[0m\u001b[1;36m0\u001b[0m\u001b[1;33m]\u001b[0m\u001b[1;33m]\u001b[0m \u001b[1;33m=\u001b[0m \u001b[0mload_global\u001b[0m\u001b[1;33m\u001b[0m\u001b[0m",
        "\u001b[1;32m/home/zah/miniconda/envs/lc3/lib/python3.3/site-packages/dill/dill.py\u001b[0m in \u001b[0;36mfind_class\u001b[1;34m(self, module, name)\u001b[0m",
        "\u001b[0;32m    224\u001b[0m         \u001b[1;32mif\u001b[0m \u001b[1;33m(\u001b[0m\u001b[0mmodule\u001b[0m\u001b[1;33m,\u001b[0m \u001b[0mname\u001b[0m\u001b[1;33m)\u001b[0m \u001b[1;33m==\u001b[0m \u001b[1;33m(\u001b[0m\u001b[1;34m'__builtin__'\u001b[0m\u001b[1;33m,\u001b[0m \u001b[1;34m'__main__'\u001b[0m\u001b[1;33m)\u001b[0m\u001b[1;33m:\u001b[0m\u001b[1;33m\u001b[0m\u001b[0m",
        "\u001b[0;32m    225\u001b[0m             \u001b[1;32mreturn\u001b[0m \u001b[0mself\u001b[0m\u001b[1;33m.\u001b[0m\u001b[0m_main_module\u001b[0m\u001b[1;33m.\u001b[0m\u001b[0m__dict__\u001b[0m \u001b[1;31m#XXX: above set w/save_module_dict\u001b[0m\u001b[1;33m\u001b[0m\u001b[0m",
        "\u001b[1;32m--> 226\u001b[1;33m         \u001b[1;32mreturn\u001b[0m \u001b[0mStockUnpickler\u001b[0m\u001b[1;33m.\u001b[0m\u001b[0mfind_class\u001b[0m\u001b[1;33m(\u001b[0m\u001b[0mself\u001b[0m\u001b[1;33m,\u001b[0m \u001b[0mmodule\u001b[0m\u001b[1;33m,\u001b[0m \u001b[0mname\u001b[0m\u001b[1;33m)\u001b[0m\u001b[1;33m\u001b[0m\u001b[0m",
        "\u001b[0m\u001b[0;32m    227\u001b[0m     \u001b[1;32mpass\u001b[0m\u001b[1;33m\u001b[0m\u001b[0m",
        "\u001b[0;32m    228\u001b[0m \u001b[1;33m\u001b[0m\u001b[0m",
        "\u001b[1;32m/home/zah/miniconda/envs/lc3/lib/python3.3/pickle.py\u001b[0m in \u001b[0;36mfind_class\u001b[1;34m(self, module, name)\u001b[0m",
        "\u001b[0;32m   1141\u001b[0m             \u001b[1;32mif\u001b[0m \u001b[0mmodule\u001b[0m \u001b[1;32min\u001b[0m \u001b[0m_compat_pickle\u001b[0m\u001b[1;33m.\u001b[0m\u001b[0mIMPORT_MAPPING\u001b[0m\u001b[1;33m:\u001b[0m\u001b[1;33m\u001b[0m\u001b[0m",
        "\u001b[0;32m   1142\u001b[0m                 \u001b[0mmodule\u001b[0m \u001b[1;33m=\u001b[0m \u001b[0m_compat_pickle\u001b[0m\u001b[1;33m.\u001b[0m\u001b[0mIMPORT_MAPPING\u001b[0m\u001b[1;33m[\u001b[0m\u001b[0mmodule\u001b[0m\u001b[1;33m]\u001b[0m\u001b[1;33m\u001b[0m\u001b[0m",
        "\u001b[1;32m-> 1143\u001b[1;33m         \u001b[0m__import__\u001b[0m\u001b[1;33m(\u001b[0m\u001b[0mmodule\u001b[0m\u001b[1;33m,\u001b[0m \u001b[0mlevel\u001b[0m\u001b[1;33m=\u001b[0m\u001b[1;36m0\u001b[0m\u001b[1;33m)\u001b[0m\u001b[1;33m\u001b[0m\u001b[0m",
        "\u001b[0m\u001b[0;32m   1144\u001b[0m         \u001b[0mmod\u001b[0m \u001b[1;33m=\u001b[0m \u001b[0msys\u001b[0m\u001b[1;33m.\u001b[0m\u001b[0mmodules\u001b[0m\u001b[1;33m[\u001b[0m\u001b[0mmodule\u001b[0m\u001b[1;33m]\u001b[0m\u001b[1;33m\u001b[0m\u001b[0m",
        "\u001b[0;32m   1145\u001b[0m         \u001b[0mklass\u001b[0m \u001b[1;33m=\u001b[0m \u001b[0mgetattr\u001b[0m\u001b[1;33m(\u001b[0m\u001b[0mmod\u001b[0m\u001b[1;33m,\u001b[0m \u001b[0mname\u001b[0m\u001b[1;33m)\u001b[0m\u001b[1;33m\u001b[0m\u001b[0m",
        "\u001b[1;31mImportError\u001b[0m: No module named 'models'"
       ]
      }
     ],
     "prompt_number": 12
    },
    {
     "cell_type": "code",
     "collapsed": false,
     "input": [
      "%debug"
     ],
     "language": "python",
     "metadata": {},
     "outputs": [
      {
       "output_type": "stream",
       "stream": "stdout",
       "text": [
        "> \u001b[1;32m/home/zah/sourcecode/ipython/IPython/parallel/client/asyncresult.py\u001b[0m(164)\u001b[0;36mwait\u001b[1;34m()\u001b[0m\n",
        "\u001b[1;32m    163 \u001b[1;33m                    \u001b[0mtimeout\u001b[0m \u001b[1;33m=\u001b[0m \u001b[1;36m10\u001b[0m\u001b[1;33m\u001b[0m\u001b[0m\n",
        "\u001b[0m\u001b[1;32m--> 164 \u001b[1;33m                \u001b[0mself\u001b[0m\u001b[1;33m.\u001b[0m\u001b[0m_wait_for_outputs\u001b[0m\u001b[1;33m(\u001b[0m\u001b[0mtimeout\u001b[0m\u001b[1;33m)\u001b[0m\u001b[1;33m\u001b[0m\u001b[0m\n",
        "\u001b[0m\u001b[1;32m    165 \u001b[1;33m\u001b[1;33m\u001b[0m\u001b[0m\n",
        "\u001b[0m\n"
       ]
      }
     ]
    },
    {
     "cell_type": "code",
     "collapsed": false,
     "input": [
      "g.result"
     ],
     "language": "python",
     "metadata": {},
     "outputs": [
      {
       "metadata": {},
       "output_type": "pyout",
       "prompt_number": 34,
       "text": [
        "{<IONode: Node 3>: {'o1': None, 'o2': None},\n",
        " <IONode: Node 4>: {'o1': 'uiui', 'o2': None},\n",
        " <IONode: Node 2>: {'o1': 'uiui', 'o2': None},\n",
        " <IONode: Node 0>: {'o1': 'uiui', 'o2': None},\n",
        " <IONode: Node 1>: {'o1': 'uiui', 'o2': None}}"
       ]
      }
     ],
     "prompt_number": 34
    },
    {
     "cell_type": "code",
     "collapsed": false,
     "input": [
      "del g"
     ],
     "language": "python",
     "metadata": {},
     "outputs": [
      {
       "ename": "NameError",
       "evalue": "name 'g' is not defined",
       "output_type": "pyerr",
       "traceback": [
        "\u001b[1;31m---------------------------------------------------------------------------\u001b[0m\n\u001b[1;31mNameError\u001b[0m                                 Traceback (most recent call last)",
        "\u001b[1;32m<ipython-input-10-fe4f3cd9470f>\u001b[0m in \u001b[0;36m<module>\u001b[1;34m()\u001b[0m\n\u001b[1;32m----> 1\u001b[1;33m \u001b[1;32mdel\u001b[0m \u001b[0mg\u001b[0m\u001b[1;33m\u001b[0m\u001b[0m\n\u001b[0m",
        "\u001b[1;31mNameError\u001b[0m: name 'g' is not defined"
       ]
      }
     ],
     "prompt_number": 10
    },
    {
     "cell_type": "code",
     "collapsed": false,
     "input": [
      "x = IOGraph.find_one()"
     ],
     "language": "python",
     "metadata": {},
     "outputs": [
      {
       "ename": "MongoTraitsError",
       "evalue": "Could not load reference 539ef9261a8d5f1d26d98cb0 in collection IONode",
       "output_type": "pyerr",
       "traceback": [
        "\u001b[1;31m---------------------------------------------------------------------------\u001b[0m\n\u001b[1;31mMongoTraitsError\u001b[0m                          Traceback (most recent call last)",
        "\u001b[1;32m<ipython-input-2-f3f72db70909>\u001b[0m in \u001b[0;36m<module>\u001b[1;34m()\u001b[0m\n\u001b[1;32m----> 1\u001b[1;33m \u001b[0mx\u001b[0m \u001b[1;33m=\u001b[0m \u001b[0mIOGraph\u001b[0m\u001b[1;33m.\u001b[0m\u001b[0mfind_one\u001b[0m\u001b[1;33m(\u001b[0m\u001b[1;33m)\u001b[0m\u001b[1;33m\u001b[0m\u001b[0m\n\u001b[0m",
        "\u001b[1;32m/home/zah/ews/project/labcore/mongotraits/documents.py\u001b[0m in \u001b[0;36mfind_one\u001b[1;34m(cls, query, projection, allow_update, **kwargs)\u001b[0m\n\u001b[0;32m    382\u001b[0m             \" in collection %s.\")% (query, cls.collection_name()))\n\u001b[0;32m    383\u001b[0m         ins =  cls.resolve_instance(result,\n\u001b[1;32m--> 384\u001b[1;33m                                     allow_update=allow_update)\n\u001b[0m\u001b[0;32m    385\u001b[0m         \u001b[0mins\u001b[0m\u001b[1;33m.\u001b[0m\u001b[0mindb\u001b[0m \u001b[1;33m=\u001b[0m \u001b[1;32mTrue\u001b[0m\u001b[1;33m\u001b[0m\u001b[0m\n\u001b[0;32m    386\u001b[0m         \u001b[1;32mreturn\u001b[0m \u001b[0mins\u001b[0m\u001b[1;33m\u001b[0m\u001b[0m\n",
        "\u001b[1;32m/home/zah/ews/project/labcore/mongotraits/documents.py\u001b[0m in \u001b[0;36mresolve_instance\u001b[1;34m(cls, kwargsdict, allow_update)\u001b[0m\n\u001b[0;32m    181\u001b[0m         \u001b[1;32mif\u001b[0m \u001b[0mcls\u001b[0m\u001b[1;33m.\u001b[0m\u001b[0m_class_tag\u001b[0m\u001b[1;33m:\u001b[0m\u001b[1;33m\u001b[0m\u001b[0m\n\u001b[0;32m    182\u001b[0m             \u001b[0mkwargsdict\u001b[0m\u001b[1;33m.\u001b[0m\u001b[0mpop\u001b[0m\u001b[1;33m(\u001b[0m\u001b[1;34m'_cls'\u001b[0m\u001b[1;33m)\u001b[0m\u001b[1;33m\u001b[0m\u001b[0m\n\u001b[1;32m--> 183\u001b[1;33m         \u001b[0mkwargsdict\u001b[0m \u001b[1;33m=\u001b[0m \u001b[0mcls\u001b[0m\u001b[1;33m.\u001b[0m\u001b[0mto_classdict\u001b[0m\u001b[1;33m(\u001b[0m\u001b[0mkwargsdict\u001b[0m\u001b[1;33m,\u001b[0m\u001b[0mallow_update\u001b[0m\u001b[1;33m)\u001b[0m\u001b[1;33m\u001b[0m\u001b[0m\n\u001b[0m\u001b[0;32m    184\u001b[0m         \u001b[1;32mif\u001b[0m \u001b[1;34m'_id'\u001b[0m \u001b[1;32min\u001b[0m \u001b[0mkwargsdict\u001b[0m\u001b[1;33m:\u001b[0m\u001b[1;33m\u001b[0m\u001b[0m\n\u001b[0;32m    185\u001b[0m             \u001b[0muid\u001b[0m \u001b[1;33m=\u001b[0m  \u001b[0mkwargsdict\u001b[0m\u001b[1;33m[\u001b[0m\u001b[1;34m'_id'\u001b[0m\u001b[1;33m]\u001b[0m\u001b[1;33m\u001b[0m\u001b[0m\n",
        "\u001b[1;32m/home/zah/ews/project/labcore/mongotraits/documents.py\u001b[0m in \u001b[0;36mto_classdict\u001b[1;34m(cls, kwargsdict, allow_update)\u001b[0m\n\u001b[0;32m    212\u001b[0m             \u001b[1;32mif\u001b[0m \u001b[0mkey\u001b[0m \u001b[1;32min\u001b[0m \u001b[0mcontainer_traits\u001b[0m\u001b[1;33m:\u001b[0m\u001b[1;33m\u001b[0m\u001b[0m\n\u001b[0;32m    213\u001b[0m                 result[key] = cls.to_container(value,container_traits[key],\n\u001b[1;32m--> 214\u001b[1;33m                                 allow_update)\n\u001b[0m\u001b[0;32m    215\u001b[0m             \u001b[1;32melif\u001b[0m \u001b[0mkey\u001b[0m \u001b[1;32min\u001b[0m \u001b[0minstance_traits\u001b[0m\u001b[1;33m:\u001b[0m\u001b[1;33m\u001b[0m\u001b[0m\n\u001b[0;32m    216\u001b[0m                 result[key] = cls.to_instance(value,instance_traits[key],\n",
        "\u001b[1;32m/home/zah/ews/project/labcore/mongotraits/documents.py\u001b[0m in \u001b[0;36mto_container\u001b[1;34m(cls, value, trait, allow_update)\u001b[0m\n\u001b[0;32m    242\u001b[0m             \u001b[0ml\u001b[0m \u001b[1;33m=\u001b[0m \u001b[1;33m[\u001b[0m\u001b[1;33m]\u001b[0m\u001b[1;33m\u001b[0m\u001b[0m\n\u001b[0;32m    243\u001b[0m             \u001b[1;32mfor\u001b[0m \u001b[0mitem\u001b[0m \u001b[1;32min\u001b[0m \u001b[0mvalue\u001b[0m\u001b[1;33m:\u001b[0m\u001b[1;33m\u001b[0m\u001b[0m\n\u001b[1;32m--> 244\u001b[1;33m                 \u001b[0ml\u001b[0m \u001b[1;33m+=\u001b[0m \u001b[1;33m[\u001b[0m\u001b[0mcls\u001b[0m\u001b[1;33m.\u001b[0m\u001b[0mto_instance\u001b[0m\u001b[1;33m(\u001b[0m\u001b[0mitem\u001b[0m\u001b[1;33m,\u001b[0m\u001b[0m_trait\u001b[0m\u001b[1;33m,\u001b[0m \u001b[0mallow_update\u001b[0m\u001b[1;33m)\u001b[0m\u001b[1;33m]\u001b[0m\u001b[1;33m\u001b[0m\u001b[0m\n\u001b[0m\u001b[0;32m    245\u001b[0m             \u001b[1;32mreturn\u001b[0m \u001b[0mtrait\u001b[0m\u001b[1;33m.\u001b[0m\u001b[0mklass\u001b[0m\u001b[1;33m(\u001b[0m\u001b[0ml\u001b[0m\u001b[1;33m)\u001b[0m\u001b[1;33m\u001b[0m\u001b[0m\n\u001b[0;32m    246\u001b[0m         \u001b[1;32melse\u001b[0m\u001b[1;33m:\u001b[0m\u001b[1;33m\u001b[0m\u001b[0m\n",
        "\u001b[1;32m/home/zah/ews/project/labcore/mongotraits/documents.py\u001b[0m in \u001b[0;36mto_instance\u001b[1;34m(cls, value, trait, allow_update)\u001b[0m\n\u001b[0;32m    225\u001b[0m         \u001b[0mklass\u001b[0m \u001b[1;33m=\u001b[0m \u001b[0mtrait\u001b[0m\u001b[1;33m.\u001b[0m\u001b[0mklass\u001b[0m\u001b[1;33m\u001b[0m\u001b[0m\n\u001b[0;32m    226\u001b[0m         \u001b[1;32mif\u001b[0m \u001b[0mhasattr\u001b[0m\u001b[1;33m(\u001b[0m\u001b[0mtrait\u001b[0m\u001b[1;33m,\u001b[0m \u001b[1;34m'dereference'\u001b[0m\u001b[1;33m)\u001b[0m\u001b[1;33m:\u001b[0m\u001b[1;33m\u001b[0m\u001b[0m\n\u001b[1;32m--> 227\u001b[1;33m             \u001b[1;32mreturn\u001b[0m \u001b[0mtrait\u001b[0m\u001b[1;33m.\u001b[0m\u001b[0mdereference\u001b[0m\u001b[1;33m(\u001b[0m\u001b[0mvalue\u001b[0m\u001b[1;33m)\u001b[0m\u001b[1;33m\u001b[0m\u001b[0m\n\u001b[0m\u001b[0;32m    228\u001b[0m         \u001b[1;32melif\u001b[0m \u001b[0mvalue\u001b[0m \u001b[1;32mis\u001b[0m \u001b[1;32mNone\u001b[0m\u001b[1;33m:\u001b[0m\u001b[1;33m\u001b[0m\u001b[0m\n\u001b[0;32m    229\u001b[0m             \u001b[1;32mreturn\u001b[0m \u001b[0mvalue\u001b[0m\u001b[1;33m\u001b[0m\u001b[0m\n",
        "\u001b[1;32m/home/zah/ews/project/labcore/mongotraits/documents.py\u001b[0m in \u001b[0;36mdereference\u001b[1;34m(self, value)\u001b[0m\n\u001b[0;32m     72\u001b[0m             \u001b[1;32mreturn\u001b[0m \u001b[1;32mNone\u001b[0m\u001b[1;33m\u001b[0m\u001b[0m\n\u001b[0;32m     73\u001b[0m         \u001b[0mself\u001b[0m\u001b[1;33m.\u001b[0m\u001b[0m_resolve_classes\u001b[0m\u001b[1;33m(\u001b[0m\u001b[1;33m)\u001b[0m\u001b[1;33m\u001b[0m\u001b[0m\n\u001b[1;32m---> 74\u001b[1;33m         \u001b[1;32mreturn\u001b[0m \u001b[0mself\u001b[0m\u001b[1;33m.\u001b[0m\u001b[0mklass\u001b[0m\u001b[1;33m.\u001b[0m\u001b[0mload_ref\u001b[0m\u001b[1;33m(\u001b[0m\u001b[0mvalue\u001b[0m\u001b[1;33m)\u001b[0m\u001b[1;33m\u001b[0m\u001b[0m\n\u001b[0m\u001b[0;32m     75\u001b[0m     \u001b[1;32mdef\u001b[0m \u001b[0mreference\u001b[0m\u001b[1;33m(\u001b[0m\u001b[0mself\u001b[0m\u001b[1;33m,\u001b[0m \u001b[0mvalue\u001b[0m\u001b[1;33m)\u001b[0m\u001b[1;33m:\u001b[0m\u001b[1;33m\u001b[0m\u001b[0m\n\u001b[0;32m     76\u001b[0m         \u001b[1;32mreturn\u001b[0m \u001b[0mvalue\u001b[0m\u001b[1;33m.\u001b[0m\u001b[0m_id\u001b[0m\u001b[1;33m\u001b[0m\u001b[0m\n",
        "\u001b[1;32m/home/zah/ews/project/labcore/mongotraits/documents.py\u001b[0m in \u001b[0;36mload_ref\u001b[1;34m(cls, _id, allow_update)\u001b[0m\n\u001b[0;32m    423\u001b[0m         \u001b[1;32mif\u001b[0m \u001b[1;32mnot\u001b[0m \u001b[0mresult\u001b[0m\u001b[1;33m:\u001b[0m\u001b[1;33m\u001b[0m\u001b[0m\n\u001b[0;32m    424\u001b[0m             raise MongoTraitsError(\"Could not load reference %s in collection %s\"%\n\u001b[1;32m--> 425\u001b[1;33m                                    (_id, cls.collection_name()))\n\u001b[0m\u001b[0;32m    426\u001b[0m         \u001b[1;32mif\u001b[0m \u001b[1;34m'_cls'\u001b[0m \u001b[1;32min\u001b[0m \u001b[0mresult\u001b[0m\u001b[1;33m:\u001b[0m\u001b[1;33m\u001b[0m\u001b[0m\n\u001b[0;32m    427\u001b[0m             \u001b[0mklass\u001b[0m \u001b[1;33m=\u001b[0m \u001b[0m_collection\u001b[0m\u001b[1;33m[\u001b[0m\u001b[0mcls\u001b[0m\u001b[1;33m.\u001b[0m\u001b[0mcollection_name\u001b[0m\u001b[1;33m(\u001b[0m\u001b[1;33m)\u001b[0m\u001b[1;33m]\u001b[0m\u001b[1;33m[\u001b[0m\u001b[0mresult\u001b[0m\u001b[1;33m[\u001b[0m\u001b[1;34m'_cls'\u001b[0m\u001b[1;33m]\u001b[0m\u001b[1;33m]\u001b[0m\u001b[1;33m\u001b[0m\u001b[0m\n",
        "\u001b[1;31mMongoTraitsError\u001b[0m: Could not load reference 539ef9261a8d5f1d26d98cb0 in collection IONode"
       ]
      }
     ],
     "prompt_number": 2
    },
    {
     "cell_type": "code",
     "collapsed": false,
     "input": [
      "x.make_control()"
     ],
     "language": "python",
     "metadata": {},
     "outputs": [],
     "prompt_number": 9
    },
    {
     "cell_type": "code",
     "collapsed": false,
     "input": [
      "from labcore.widgets import edit_object"
     ],
     "language": "python",
     "metadata": {},
     "outputs": [],
     "prompt_number": 7
    },
    {
     "cell_type": "code",
     "collapsed": false,
     "input": [
      "edit_object(ions[0])"
     ],
     "language": "python",
     "metadata": {},
     "outputs": [],
     "prompt_number": 9
    },
    {
     "cell_type": "code",
     "collapsed": false,
     "input": [
      "G = g.build_graph()"
     ],
     "language": "python",
     "metadata": {},
     "outputs": [],
     "prompt_number": 12
    },
    {
     "cell_type": "code",
     "collapsed": false,
     "input": [
      "import networkx as nx"
     ],
     "language": "python",
     "metadata": {},
     "outputs": [],
     "prompt_number": 13
    },
    {
     "cell_type": "code",
     "collapsed": false,
     "input": [
      "nx.topological_sort(G)"
     ],
     "language": "python",
     "metadata": {},
     "outputs": [
      {
       "metadata": {},
       "output_type": "pyout",
       "prompt_number": 14,
       "text": [
        "[<models.IOGraph.build_graph.<locals>._N at 0x7f18cdc8b590>,\n",
        " <models.IOGraph.build_graph.<locals>._N at 0x7f18cdd05e50>,\n",
        " <models.IOGraph.build_graph.<locals>._N at 0x7f18cdd059d0>,\n",
        " <models.IOGraph.build_graph.<locals>._N at 0x7f18cdd05d90>,\n",
        " <IONode: Node 0>,\n",
        " <IONode: Node 1>,\n",
        " <models.IOGraph.build_graph.<locals>._N at 0x7f18cdc8b8d0>,\n",
        " <IONode: Node 3>,\n",
        " <IONode: Node 2>,\n",
        " <IONode: Node 4>]"
       ]
      }
     ],
     "prompt_number": 14
    },
    {
     "cell_type": "code",
     "collapsed": false,
     "input": [
      "g.draw_graph()"
     ],
     "language": "python",
     "metadata": {},
     "outputs": [
      {
       "metadata": {},
       "output_type": "display_data",
       "png": "[encoded data removed]",
       "text": [
        "<matplotlib.figure.Figure at 0x7f18cdd22050>"
       ]
      }
     ],
     "prompt_number": 15
    },
    {
     "cell_type": "code",
     "collapsed": false,
     "input": [
      "import dill"
     ],
     "language": "python",
     "metadata": {},
     "outputs": [],
     "prompt_number": 7
    },
    {
     "cell_type": "code",
     "collapsed": false,
     "input": [
      "import pickle"
     ],
     "language": "python",
     "metadata": {},
     "outputs": [],
     "prompt_number": 8
    },
    {
     "cell_type": "code",
     "collapsed": false,
     "input": [
      "pickle.dumps(iosimple)"
     ],
     "language": "python",
     "metadata": {},
     "outputs": [
      {
       "ename": "PicklingError",
       "evalue": "Can't pickle <class 'function'>: attribute lookup builtins.function failed",
       "output_type": "pyerr",
       "traceback": [
        "\u001b[1;31m---------------------------------------------------------------------------\u001b[0m\n\u001b[1;31mPicklingError\u001b[0m                             Traceback (most recent call last)",
        "\u001b[1;32m<ipython-input-9-ca88eff6e7cf>\u001b[0m in \u001b[0;36m<module>\u001b[1;34m()\u001b[0m\n\u001b[1;32m----> 1\u001b[1;33m \u001b[0mpickle\u001b[0m\u001b[1;33m.\u001b[0m\u001b[0mdumps\u001b[0m\u001b[1;33m(\u001b[0m\u001b[0miosimple\u001b[0m\u001b[1;33m)\u001b[0m\u001b[1;33m\u001b[0m\u001b[0m\n\u001b[0m",
        "\u001b[1;31mPicklingError\u001b[0m: Can't pickle <class 'function'>: attribute lookup builtins.function failed"
       ]
      }
     ],
     "prompt_number": 9
    },
    {
     "cell_type": "code",
     "collapsed": false,
     "input": [
      "dill.citation()"
     ],
     "language": "python",
     "metadata": {},
     "outputs": [
      {
       "output_type": "stream",
       "stream": "stdout",
       "text": [
        "\n",
        "    M.M. McKerns, L. Strand, T. Sullivan, A. Fang, M.A.G. Aivazis,\n",
        "    \"Building a framework for predictive science\", Proceedings of\n",
        "    the 10th Python in Science Conference, 2011;\n",
        "    http://arxiv.org/pdf/1202.1056\n",
        "\n",
        "    Michael McKerns and Michael Aivazis,\n",
        "    \"pathos: a framework for heterogeneous computing\", 2010- ;\n",
        "    http://dev.danse.us/trac/pathos\n",
        "\n"
       ]
      }
     ],
     "prompt_number": 11
    },
    {
     "cell_type": "code",
     "collapsed": false,
     "input": [
      "dill.dumps(iosimple)"
     ],
     "language": "python",
     "metadata": {},
     "outputs": [
      {
       "metadata": {},
       "output_type": "pyout",
       "prompt_number": 12,
       "text": [
        "b'\\x80\\x03cmodels\\nIObject\\nq\\x00)\\x81q\\x01}q\\x02(X\\x08\\x00\\x00\\x00functionq\\x03cdill.dill\\n_create_function\\nq\\x04(cdill.dill\\n_unmarshal\\nq\\x05B7\\x01\\x00\\x00c\\x02\\x00\\x00\\x00\\x00\\x00\\x00\\x00\\x04\\x00\\x00\\x00\\x03\\x00\\x00\\x00C\\x00\\x00\\x00s;\\x00\\x00\\x00d\\x01\\x00d\\x00\\x00l\\x00\\x00}\\x02\\x00d\\x01\\x00d\\x02\\x00l\\x01\\x00m\\x02\\x00}\\x03\\x00\\x01|\\x02\\x00j\\x03\\x00d\\x03\\x00\\x83\\x01\\x00\\x01i\\x02\\x00|\\x00\\x00d\\x04\\x006|\\x01\\x00d\\x05\\x006S(\\x06\\x00\\x00\\x00Ni\\x00\\x00\\x00\\x00(\\x01\\x00\\x00\\x00u\\x07\\x00\\x00\\x00IObjecti\\x01\\x00\\x00\\x00u\\x02\\x00\\x00\\x00o1u\\x02\\x00\\x00\\x00o2(\\x04\\x00\\x00\\x00u\\x04\\x00\\x00\\x00timeu\\x17\\x00\\x00\\x00labcore.iobjects.modelsu\\x07\\x00\\x00\\x00IObjectu\\x05\\x00\\x00\\x00sleep(\\x04\\x00\\x00\\x00u\\x02\\x00\\x00\\x00i1u\\x02\\x00\\x00\\x00i2u\\x04\\x00\\x00\\x00timeu\\x07\\x00\\x00\\x00IObject(\\x00\\x00\\x00\\x00(\\x00\\x00\\x00\\x00u\\x1e\\x00\\x00\\x00<ipython-input-5-1562a007f8c6>u\\x08\\x00\\x00\\x00iosimple\\x01\\x00\\x00\\x00s\\x08\\x00\\x00\\x00\\x00\\x02\\x0c\\x01\\x10\\x01\\r\\x01q\\x06\\x85q\\x07Rq\\x08c__builtin__\\n__main__\\nX\\x08\\x00\\x00\\x00iosimpleq\\tNN}q\\ntq\\x0bRq\\x0cX\\x10\\x00\\x00\\x00_trait_dyn_initsq\\r}q\\x0eX\\r\\x00\\x00\\x00_trait_valuesq\\x0f}q\\x10(X\\n\\x00\\x00\\x00_referenceq\\x11X\\x00\\x00\\x00\\x00q\\x12X\\n\\x00\\x00\\x00log_outputq\\x13\\x89X\\x07\\x00\\x00\\x00outputsq\\x14cmodels\\nOutput\\nq\\x15)\\x81q\\x16}q\\x17(h\\x0f}q\\x18(X\\x05\\x00\\x00\\x00valueq\\x19NX\\x03\\x00\\x00\\x00_idq\\x1acbson.objectid\\nObjectId\\nq\\x1b)\\x81q\\x1cC\\x0cS\\x9f/%\\x1a\\x8d_\\'\\xdb>\\x8dZq\\x1dbX\\x0b\\x00\\x00\\x00descriptionq\\x1eh\\x12X\\x04\\x00\\x00\\x00nameq\\x1fX\\x02\\x00\\x00\\x00o1q X\\x0b\\x00\\x00\\x00output_typeq!X\\x07\\x00\\x00\\x00displayq\"X\\n\\x00\\x00\\x00param_typeq#X\\x06\\x00\\x00\\x00Stringq$X\\x07\\x00\\x00\\x00defaultq%NuX\\x10\\x00\\x00\\x00_trait_notifiersq&}q\\'h\\r}q(ubh\\x15)\\x81q)}q*(h\\x0f}q+(h\\x19Nh\\x1ah\\x1b)\\x81q,C\\x0cS\\x9f/%\\x1a\\x8d_\\'\\xdb>\\x8d[q-bh\\x1eh\\x12h\\x1fX\\x02\\x00\\x00\\x00o2q.h!h\"h#h$h%Nuh&}q/h\\r}q0ub\\x86q1X\\x06\\x00\\x00\\x00inputsq2cmodels\\nInput\\nq3)\\x81q4}q5(h\\x0f}q6(X\\x0c\\x00\\x00\\x00input_methodq7X\\n\\x00\\x00\\x00user_inputq8h\\x1ah\\x1b)\\x81q9C\\x0cS\\x9f/%\\x1a\\x8d_\\'\\xdb>\\x8dXq:bh\\x1eh\\x12h\\x19Nh\\x1fX\\x02\\x00\\x00\\x00i1q;h#X\\x06\\x00\\x00\\x00Stringq<h%Nuh&}q=h\\r}q>ubh3)\\x81q?}q@(h\\x0f}qA(h7h8h\\x1ah\\x1b)\\x81qBC\\x0cS\\x9f/%\\x1a\\x8d_\\'\\xdb>\\x8dYqCbh\\x1eh\\x12h\\x19Nh\\x1fX\\x02\\x00\\x00\\x00i2qDh#h<h%Nuh&}qEh\\r}qFub\\x86qGh\\x1fh\\tuX\\t\\x00\\x00\\x00referenceqHX\\x11\\x00\\x00\\x00__main__.iosimpleqIX\\x0e\\x00\\x00\\x00_simple_outputqJ\\x89h&}qKub.'"
       ]
      }
     ],
     "prompt_number": 12
    },
    {
     "cell_type": "code",
     "collapsed": false,
     "input": [
      "from IPython.html import widgets"
     ],
     "language": "python",
     "metadata": {},
     "outputs": [],
     "prompt_number": 7
    },
    {
     "cell_type": "code",
     "collapsed": false,
     "input": [
      "b = widgets.ButtonWidget()"
     ],
     "language": "python",
     "metadata": {},
     "outputs": [],
     "prompt_number": 8
    },
    {
     "cell_type": "code",
     "collapsed": false,
     "input": [
      "b"
     ],
     "language": "python",
     "metadata": {},
     "outputs": [],
     "prompt_number": 9
    },
    {
     "cell_type": "code",
     "collapsed": false,
     "input": [
      "b.disabled = True"
     ],
     "language": "python",
     "metadata": {},
     "outputs": [],
     "prompt_number": 10
    },
    {
     "cell_type": "code",
     "collapsed": false,
     "input": [],
     "language": "python",
     "metadata": {},
     "outputs": []
    }
   ],
   "metadata": {}
  }
 ]
}