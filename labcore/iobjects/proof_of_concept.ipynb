{
 "metadata": {
  "name": "",
  "signature": "sha256:1b0bd29748dda192225e2e0ab7f719cd263eeba4a4cd2e3b0b87332d7d355ae3"
 },
 "nbformat": 3,
 "nbformat_minor": 0,
 "worksheets": [
  {
   "cells": [
    {
     "cell_type": "code",
     "collapsed": false,
     "input": [
      "from tests import *\n",
      "from IPython.html import widgets\n",
      "import networkx as nx\n",
      "%matplotlib inline\n",
      "io4.draw_graph()\n",
      "w = io4.make_control()\n"
     ],
     "language": "python",
     "metadata": {},
     "outputs": [
      {
       "metadata": {},
       "output_type": "display_data",
       "png": "[encoded data removed]",
       "text": [
        "<matplotlib.figure.Figure at 0x7f58a932d710>"
       ]
      },
      {
       "output_type": "stream",
       "stream": "stdout",
       "text": [
        "IO0run!\n"
       ]
      }
     ],
     "prompt_number": 2
    },
    {
     "cell_type": "code",
     "collapsed": false,
     "input": [
      "G = io4.build_graph()"
     ],
     "language": "python",
     "metadata": {},
     "outputs": [],
     "prompt_number": 12
    },
    {
     "cell_type": "code",
     "collapsed": false,
     "input": [
      "i=G.nodes_iter()"
     ],
     "language": "python",
     "metadata": {},
     "outputs": [],
     "prompt_number": 13
    },
    {
     "cell_type": "code",
     "collapsed": false,
     "input": [
      "next(i)"
     ],
     "language": "python",
     "metadata": {},
     "outputs": [
      {
       "metadata": {},
       "output_type": "pyout",
       "prompt_number": 18,
       "text": [
        "<IOSimple: IO1>"
       ]
      }
     ],
     "prompt_number": 18
    },
    {
     "cell_type": "code",
     "collapsed": false,
     "input": [
      "G.adjacency_list()"
     ],
     "language": "python",
     "metadata": {},
     "outputs": [
      {
       "metadata": {},
       "output_type": "pyout",
       "prompt_number": 25,
       "text": [
        "[[<IOSimple: IO2>, <IOSimple: IO3>],\n",
        " [<IOSimple: IO1>],\n",
        " [<IOSimple: IO1>],\n",
        " [],\n",
        " [<IOSimple: IO0>]]"
       ]
      }
     ],
     "prompt_number": 25
    },
    {
     "cell_type": "code",
     "collapsed": false,
     "input": [
      "G.neighbors(io4)"
     ],
     "language": "python",
     "metadata": {},
     "outputs": [
      {
       "metadata": {},
       "output_type": "pyout",
       "prompt_number": 29,
       "text": [
        "[<IOSimple: IO2>, <IOSimple: IO3>]"
       ]
      }
     ],
     "prompt_number": 29
    },
    {
     "cell_type": "code",
     "collapsed": false,
     "input": [
      "G.predecessors(io1)"
     ],
     "language": "python",
     "metadata": {},
     "outputs": [
      {
       "metadata": {},
       "output_type": "pyout",
       "prompt_number": 32,
       "text": [
        "[<IOSimple: IO2>, <IOSimple: IO3>]"
       ]
      }
     ],
     "prompt_number": 32
    },
    {
     "cell_type": "code",
     "collapsed": false,
     "input": [
      "list(G.nodes_iter())"
     ],
     "language": "python",
     "metadata": {},
     "outputs": [
      {
       "metadata": {},
       "output_type": "pyout",
       "prompt_number": 34,
       "text": [
        "[<IOSimple: IO4>,\n",
        " <IOSimple: IO2>,\n",
        " <IOSimple: IO3>,\n",
        " <IOSimple: IO0>,\n",
        " <IOSimple: IO1>]"
       ]
      }
     ],
     "prompt_number": 34
    },
    {
     "cell_type": "raw",
     "metadata": {},
     "source": [
      "G.nodes_iter?"
     ]
    },
    {
     "cell_type": "code",
     "collapsed": false,
     "input": [
      "G.nodes?"
     ],
     "language": "python",
     "metadata": {},
     "outputs": [],
     "prompt_number": 20
    },
    {
     "cell_type": "code",
     "collapsed": false,
     "input": [
      "list(io4.antecessors)"
     ],
     "language": "python",
     "metadata": {},
     "outputs": [
      {
       "output_type": "stream",
       "stream": "stdout",
       "text": [
        "set([<IOSimple: IO3>, <IOSimple: IO2>])\n",
        "set([<IOSimple: IO3>, <IOSimple: IO2>])\n",
        "set([<IOSimple: IO1>])\n",
        "set([<IOSimple: IO1>])\n",
        "set([<IOSimple: IO0>])\n",
        "set([<IOSimple: IO0>])\n",
        "set([])\n",
        "set([])\n",
        "set([<IOSimple: IO1>])\n",
        "set([])\n"
       ]
      },
      {
       "metadata": {},
       "output_type": "pyout",
       "prompt_number": 2,
       "text": [
        "[<IOSimple: IO3>, <IOSimple: IO1>, <IOSimple: IO0>, <IOSimple: IO2>]"
       ]
      }
     ],
     "prompt_number": 2
    },
    {
     "cell_type": "code",
     "collapsed": false,
     "input": [],
     "language": "python",
     "metadata": {},
     "outputs": []
    }
   ],
   "metadata": {}
  }
 ]
}