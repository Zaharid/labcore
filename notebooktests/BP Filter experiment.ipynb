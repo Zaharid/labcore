{
 "metadata": {
  "name": ""
 },
 "nbformat": 3,
 "nbformat_minor": 0,
 "worksheets": [
  {
   "cells": [
    {
     "cell_type": "code",
     "collapsed": false,
     "input": [
      "import instruments\n",
      "\n",
      "instruments.refresh_devices()\n",
      "\n",
      "osc = instruments.load_instrument('osc')\n",
      "\n",
      "def init():\n",
      "    osc.reset()\n",
      "    osc.set_probe(1,1)\n",
      "    osc.set_probe(2,1)\n",
      "    osc.set_display(2,True)\n",
      "    osc.enable_generator(1)\n",
      "    osc.autoscale_amode('current')\n",
      "    osc.set_acquire_type('AVERAGE')\n",
      "    osc.set_acquire_count(512)\n",
      "    osc.device.timeout = 100000\n",
      "    \n"
     ],
     "language": "python",
     "metadata": {},
     "outputs": [
      {
       "output_type": "stream",
       "stream": "stderr",
       "text": [
        "Exception usb.core.USBError: USBError(None, 'Unknown error') in <bound method Device.__del__ of <usb.core.Device object at 0x2a3e190>> ignored\n"
       ]
      }
     ],
     "prompt_number": 88
    },
    {
     "cell_type": "code",
     "collapsed": false,
     "input": [
      "def measure(freq):\n",
      "    osc.set_generator_frequency(freq)\n",
      "    osc.autoscale()\n",
      "    \n",
      "    #time.sleep(0.003)\n",
      "    phase = float(osc.measure_phase())\n",
      "    \n",
      "    gain = float(osc.measure_amplitude(\"CHANNEL1\"))/float(osc.measure_amplitude(\"CHANNEL2\"))\n",
      "    \n",
      "    return gain, phase"
     ],
     "language": "python",
     "metadata": {},
     "outputs": [],
     "prompt_number": 70
    },
    {
     "cell_type": "code",
     "collapsed": false,
     "input": [
      "def run_experiment():\n",
      "    init()\n",
      "    \n",
      "    freqs = sorted(list(set(range(1000,10000,1000)).union(  set(range(1700,2500,100)))))\n",
      "    gain,phase = zip(*[measure(freq) for freq in freqs])\n",
      "    plt.plot(freqs,gain)\n",
      "    plt.grid()\n",
      "    plt.xlabel('Frequencia (Hz)')\n",
      "    plt.ylabel(\"Ganancia\")\n",
      "    plt.figure()\n",
      "    plt.grid()\n",
      "    plt.xlabel('Frequencia (Hz)')\n",
      "    plt.ylabel(\"Fase (\u00ba)\")\n",
      "    plt.plot(freqs,phase)\n",
      "   \n",
      "    return gain,phase"
     ],
     "language": "python",
     "metadata": {},
     "outputs": [],
     "prompt_number": 185
    },
    {
     "cell_type": "code",
     "collapsed": false,
     "input": [
      "gain, phase = run_experiment()"
     ],
     "language": "python",
     "metadata": {},
     "outputs": [],
     "prompt_number": 187
    },
    {
     "cell_type": "code",
     "collapsed": false,
     "input": [
      "plt.close('all')"
     ],
     "language": "python",
     "metadata": {},
     "outputs": [],
     "prompt_number": 177
    },
    {
     "cell_type": "code",
     "collapsed": false,
     "input": [
      "%matplotlib"
     ],
     "language": "python",
     "metadata": {},
     "outputs": [
      {
       "output_type": "stream",
       "stream": "stdout",
       "text": [
        "Using matplotlib backend: Qt4Agg\n"
       ]
      }
     ],
     "prompt_number": 186
    },
    {
     "cell_type": "code",
     "collapsed": false,
     "input": [
      "import numpy as np\n",
      "x = []\n"
     ],
     "language": "python",
     "metadata": {},
     "outputs": [],
     "prompt_number": 193
    },
    {
     "cell_type": "code",
     "collapsed": false,
     "input": [
      "from scipy import integrate\n",
      "def adaptive_sampling(f, a, b, args = (), sample_over = None, integrator_kwargs = {}):\n",
      "    if not 'epsrel' in integrator_kwargs:\n",
      "        integrator_kwargs['epsrel'] = 1e-7\n",
      "    if not 'limit' in integrator_kwargs:\n",
      "        integrator_kwargs['limit'] = 3\n",
      "    \n",
      "    class local(object):\n",
      "        xs = []\n",
      "        ys = []\n",
      "        \n",
      "    def f_(x):\n",
      "        \n",
      "        y = f(x, *args)\n",
      "        local.xs.append(x)    \n",
      "        local.ys.append(y)\n",
      "        \n",
      "        if sample_over is not None:\n",
      "            return y[sample_over]\n",
      "        else:\n",
      "            return y\n",
      "    intr = integrate.quad(f_, a, b, **integrator_kwargs)\n",
      "    return local.xs, local.ys\n",
      "        \n",
      "        \n",
      "    \n",
      "    "
     ],
     "language": "python",
     "metadata": {},
     "outputs": [],
     "prompt_number": 73
    },
    {
     "cell_type": "code",
     "collapsed": false,
     "input": [
      "adaptive_sampling(measure, 100, 10000, sample_over = 0)"
     ],
     "language": "python",
     "metadata": {},
     "outputs": [
      {
       "ename": "NameError",
       "evalue": "name 'measure' is not defined",
       "output_type": "pyerr",
       "traceback": [
        "\u001b[1;31m---------------------------------------------------------------------------\u001b[0m\n\u001b[1;31mNameError\u001b[0m                                 Traceback (most recent call last)",
        "\u001b[1;32m<ipython-input-63-33e6a6e27564>\u001b[0m in \u001b[0;36m<module>\u001b[1;34m()\u001b[0m\n\u001b[1;32m----> 1\u001b[1;33m \u001b[0madaptive_sampling\u001b[0m\u001b[1;33m(\u001b[0m\u001b[0mmeasure\u001b[0m\u001b[1;33m,\u001b[0m \u001b[1;36m100\u001b[0m\u001b[1;33m,\u001b[0m \u001b[1;36m10000\u001b[0m\u001b[1;33m,\u001b[0m \u001b[0msample_over\u001b[0m \u001b[1;33m=\u001b[0m \u001b[1;36m0\u001b[0m\u001b[1;33m)\u001b[0m\u001b[1;33m\u001b[0m\u001b[0m\n\u001b[0m",
        "\u001b[1;31mNameError\u001b[0m: name 'measure' is not defined"
       ]
      }
     ],
     "prompt_number": 63
    },
    {
     "cell_type": "code",
     "collapsed": false,
     "input": [
      "from scipy import stats\n",
      "import matplotlib.pyplot as plt\n",
      "import numpy as np\n",
      "%matplotlib"
     ],
     "language": "python",
     "metadata": {},
     "outputs": [
      {
       "output_type": "stream",
       "stream": "stdout",
       "text": [
        "Using matplotlib backend: Qt4Agg\n"
       ]
      }
     ],
     "prompt_number": 64
    },
    {
     "cell_type": "code",
     "collapsed": false,
     "input": [
      "x = np.linspace(-7, 7, 200)\n",
      "f = lambda x : stats.cauchy.pdf(x,0.5,.3)\n",
      "plt.plot(x,stats.cauchy.pdf(x,0.5,.3))"
     ],
     "language": "python",
     "metadata": {},
     "outputs": [
      {
       "metadata": {},
       "output_type": "pyout",
       "prompt_number": 65,
       "text": [
        "[<matplotlib.lines.Line2D at 0x48e6d10>]"
       ]
      }
     ],
     "prompt_number": 65
    },
    {
     "cell_type": "code",
     "collapsed": false,
     "input": [
      "x,y = adaptive_sampling(f , -7 ,7, integrator_kwargs = {'points':[0.5]})"
     ],
     "language": "python",
     "metadata": {},
     "outputs": [],
     "prompt_number": 74
    },
    {
     "cell_type": "code",
     "collapsed": false,
     "input": [
      "x,y = adaptive_sampling(f , -7 ,7,)"
     ],
     "language": "python",
     "metadata": {},
     "outputs": [],
     "prompt_number": 75
    },
    {
     "cell_type": "code",
     "collapsed": false,
     "input": [
      "plt.plot(x,y,'o')"
     ],
     "language": "python",
     "metadata": {},
     "outputs": [
      {
       "metadata": {},
       "output_type": "pyout",
       "prompt_number": 76,
       "text": [
        "[<matplotlib.lines.Line2D at 0x4976e10>]"
       ]
      }
     ],
     "prompt_number": 76
    },
    {
     "cell_type": "code",
     "collapsed": false,
     "input": [
      "len(x)"
     ],
     "language": "python",
     "metadata": {},
     "outputs": [
      {
       "metadata": {},
       "output_type": "pyout",
       "prompt_number": 55,
       "text": [
        "126"
       ]
      }
     ],
     "prompt_number": 55
    },
    {
     "cell_type": "code",
     "collapsed": false,
     "input": [
      "def adaptive_sampling(f, a, b, args = (), sample_over = None, integrator_kwargs = {}):\n",
      "    if not 'epsrel' in integrator_kwargs:\n",
      "        integrator_kwargs['epsrel'] = 1e-7\n",
      "    if not 'limit' in integrator_kwargs:\n",
      "        integrator_kwargs['limit'] = 3\n",
      "    \n",
      "    class local(object):\n",
      "        xs = []\n",
      "        ys = []\n",
      "        \n",
      "    def f_(x):\n",
      "        \n",
      "        y = f(x, *args)\n",
      "        local.xs.append(x)    \n",
      "        local.ys.append(y)\n",
      "        \n",
      "        if sample_over is not None:\n",
      "            return y[sample_over]\n",
      "        else:\n",
      "            return y\n",
      "    intr = integrate.quad(f_, a, b, **integrator_kwargs)\n",
      "    return local.xs, local.ys\n",
      "        "
     ],
     "language": "python",
     "metadata": {},
     "outputs": []
    }
   ],
   "metadata": {}
  }
 ]
}