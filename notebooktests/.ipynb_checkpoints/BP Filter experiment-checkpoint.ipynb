{
 "metadata": {
  "name": ""
 },
 "nbformat": 3,
 "nbformat_minor": 0,
 "worksheets": [
  {
   "cells": [
    {
     "cell_type": "code",
     "collapsed": false,
     "input": [
      "import instruments\n",
      "\n",
      "instruments.refresh_devices()\n",
      "\n",
      "osc = instruments.load_instrument('osc')\n",
      "\n",
      "def init():\n",
      "    osc.reset()\n",
      "    osc.set_probe(1,1)\n",
      "    osc.set_probe(2,1)\n",
      "    osc.set_display(2,True)\n",
      "    osc.enable_generator(1)\n",
      "    osc.autoscale_amode('current')\n",
      "    osc.set_acquire_type('AVERAGE')\n",
      "    osc.set_acquire_count(512)\n",
      "    osc.device.timeout = 100000\n",
      "    \n"
     ],
     "language": "python",
     "metadata": {},
     "outputs": [],
     "prompt_number": 1
    },
    {
     "cell_type": "code",
     "collapsed": false,
     "input": [
      "def measure(freq):\n",
      "    osc.set_generator_frequency(freq)\n",
      "    osc.autoscale()\n",
      "    \n",
      "    #time.sleep(0.003)\n",
      "    phase = float(osc.measure_phase())\n",
      "    \n",
      "    gain = float(osc.measure_amplitude(\"CHANNEL1\"))/float(osc.measure_amplitude(\"CHANNEL2\"))\n",
      "    \n",
      "    return gain, phase"
     ],
     "language": "python",
     "metadata": {},
     "outputs": [],
     "prompt_number": 2
    },
    {
     "cell_type": "code",
     "collapsed": false,
     "input": [
      "from sampler.adaptive_sampling import AdaptiveSampler"
     ],
     "language": "python",
     "metadata": {},
     "outputs": [],
     "prompt_number": 3
    },
    {
     "cell_type": "code",
     "collapsed": false,
     "input": [
      "import matplotlib.pyplot as plt\n",
      "from matplotlib import animation\n",
      "def run_experiment():\n",
      "    init()\n",
      "    fig = plt.figure()\n",
      "    it = AdaptiveSampler(measure, 1e3, 1e4, sample_over = 0 ,epsilon = 10).run()\n",
      "    ax = plt.axes(xlim=(1e3, 1e4), ylim=(-0, 12))\n",
      "    x = []\n",
      "    y = []\n",
      "    line, = ax.plot(x, y, 'o',lw=2)\n",
      "    ax.grid()\n",
      "    #ax.xlabel('Frequencia (Hz)')\n",
      "    #ax.ylabel(\"Ganancia\")\n",
      "    def init_ani():\n",
      "        \n",
      "        \n",
      "        line.set_data([], [])\n",
      "        return line,\n",
      "    def animate(i):\n",
      "        point = next(it)\n",
      "        x.append(point[0])\n",
      "        y.append(point[1][0])\n",
      "        line.set_data(x,y)\n",
      "        return line,\n",
      "    anim = animation.FuncAnimation(fig, animate, init_func = init_ani,\n",
      "                                   frames=8000, interval=0, blit=False, \n",
      "                                   )\n",
      "    plt.show()\n",
      "   \n",
      "   \n",
      "    "
     ],
     "language": "python",
     "metadata": {},
     "outputs": [],
     "prompt_number": 4
    },
    {
     "cell_type": "code",
     "collapsed": false,
     "input": [
      "run_experiment()"
     ],
     "language": "python",
     "metadata": {},
     "outputs": [
      {
       "output_type": "stream",
       "stream": "stdout",
       "text": [
        "PQDict({})\n"
       ]
      }
     ],
     "prompt_number": 5
    },
    {
     "cell_type": "code",
     "collapsed": false,
     "input": [],
     "language": "python",
     "metadata": {},
     "outputs": [],
     "prompt_number": 33
    },
    {
     "cell_type": "code",
     "collapsed": false,
     "input": [
      "%matplotlib"
     ],
     "language": "python",
     "metadata": {},
     "outputs": [
      {
       "output_type": "stream",
       "stream": "stdout",
       "text": [
        "Using matplotlib backend: Qt4Agg\n"
       ]
      }
     ],
     "prompt_number": 1
    },
    {
     "cell_type": "code",
     "collapsed": false,
     "input": [
      "import numpy as np\n",
      "x = []\n"
     ],
     "language": "python",
     "metadata": {},
     "outputs": [],
     "prompt_number": 193
    },
    {
     "cell_type": "code",
     "collapsed": false,
     "input": [
      "from pqdict import PQDict"
     ],
     "language": "python",
     "metadata": {},
     "outputs": [],
     "prompt_number": 2
    },
    {
     "cell_type": "code",
     "collapsed": false,
     "input": [
      "import heapq\n",
      "import numpy as np\n",
      "atan2 = np.arctan2\n",
      "pi = np.pi\n",
      "class AdaptiveSampler(object):\n",
      "    def __init__(self, f, a ,b, sample_over = None, \n",
      "                 min_angle =  0.07, init_points = 7, epsilon = 0, max_depth = 10, max_points = 300):\n",
      "        self.heap = []\n",
      "        self.f = f\n",
      "        self.a = a\n",
      "        self.b = b\n",
      "        self.sample_over = sample_over\n",
      "        self.init_points = init_points\n",
      "        self.min_angle = min_angle\n",
      "        self.epsilon = epsilon\n",
      "        self.max_depth = max_depth\n",
      "        self.max_points = max_points\n",
      "        \n",
      "        \n",
      "    \n",
      "    def get_y(self,yret):\n",
      "         if self.sample_over is not None:\n",
      "            return yret[self.sample_over]\n",
      "         else:\n",
      "            return yret\n",
      "        \n",
      "    def eval_point(self, x, xp, yp, xn, yn, depth ,yret = None):\n",
      "        if yret is None:    \n",
      "            yret = self.f(x)\n",
      "        y = self.get_y(yret)\n",
      "            \n",
      "       \n",
      "        a1 = atan2(y-yp,x-xp + self.epsilon)\n",
      "        a2 = atan2(yn-y,xn-x + self.epsilon)\n",
      "        prior = -(min(np.abs(a1-a2), 2*pi-np.abs((a1-a2))))\n",
      "        if -prior > self.min_angle and depth <= self.max_depth: \n",
      "            d1 = ((x-xp)/2. , xp, yp, x, y, depth+1)\n",
      "            d2 = ((xn-x)/2., x, y, xn, yn, depth +1)\n",
      "            heapq.heappush(self.heap, (prior, d1))\n",
      "            heapq.heappush(self.heap, (prior, d2))\n",
      "            \n",
      "        return x,yret\n",
      "    \n",
      "    def run(self):\n",
      "        initx = np.linspace(self.a, self.b, self.init_points)\n",
      "        inity = []\n",
      "        for x in initx:\n",
      "            yret = self.f(x)\n",
      "            yield (x, yret)\n",
      "            inity.append(yret)\n",
      "        for (i,x) in enumerate(initx[1:-1]):\n",
      "            self.eval_point(x,\n",
      "                            initx[i-1], self.get_y(inity[i-1]),\n",
      "                            initx[i+1], self.get_y(inity[i+1]),\n",
      "                            0,inity[i])\n",
      "        \n",
      "        n_points = self.init_points\n",
      "        while n_points < self.max_points:\n",
      "            try:\n",
      "                p, d = heapq.heappop(self.heap)\n",
      "                yield self.eval_point(*d)\n",
      "                n_points += 1\n",
      "            except IndexError:\n",
      "                return\n",
      "        \n",
      "            \n",
      "            \n",
      "       \n",
      "        \n",
      "    "
     ],
     "language": "python",
     "metadata": {},
     "outputs": [],
     "prompt_number": 1
    },
    {
     "cell_type": "code",
     "collapsed": false,
     "input": [
      "from scipy import stats\n",
      "import matplotlib.pyplot as plt\n",
      "import numpy as np\n",
      "%matplotlib"
     ],
     "language": "python",
     "metadata": {},
     "outputs": [
      {
       "output_type": "stream",
       "stream": "stdout",
       "text": [
        "Using matplotlib backend: Qt4Agg\n"
       ]
      }
     ],
     "prompt_number": 2
    },
    {
     "cell_type": "code",
     "collapsed": false,
     "input": [
      "x = np.linspace(-7, 7, 200)\n",
      "f = lambda x : stats.cauchy.pdf(x,0.5,.3)\n",
      "plt.plot(x,stats.cauchy.pdf(x,0.5,.3))"
     ],
     "language": "python",
     "metadata": {},
     "outputs": [
      {
       "metadata": {},
       "output_type": "pyout",
       "prompt_number": 3,
       "text": [
        "[<matplotlib.lines.Line2D at 0x226ac50>]"
       ]
      }
     ],
     "prompt_number": 3
    },
    {
     "cell_type": "code",
     "collapsed": false,
     "input": [
      "s = AdaptiveSampler(f, -7, 7, max_points = 50)"
     ],
     "language": "python",
     "metadata": {},
     "outputs": [],
     "prompt_number": 6
    },
    {
     "cell_type": "code",
     "collapsed": false,
     "input": [
      "x,y = zip(*points)"
     ],
     "language": "python",
     "metadata": {},
     "outputs": [],
     "prompt_number": 114
    },
    {
     "cell_type": "code",
     "collapsed": false,
     "input": [
      "plt.plot(x,y, 'o')"
     ],
     "language": "python",
     "metadata": {},
     "outputs": [
      {
       "metadata": {},
       "output_type": "pyout",
       "prompt_number": 115,
       "text": [
        "[<matplotlib.lines.Line2D at 0x449c510>]"
       ]
      }
     ],
     "prompt_number": 115
    },
    {
     "cell_type": "code",
     "collapsed": false,
     "input": [
      "xp = 0\n",
      "x = 1\n",
      "xn = 2\n",
      "yp = 0\n",
      "y = 1\n",
      "yn = 2\n",
      "a1 = atan2(y-yp,x-xp)\n",
      "a2 = atan2(yn-y,xn-x)\n",
      "prior = -(min(np.abs(a1-a2), 2*pi-np.abs((a1-a2))))"
     ],
     "language": "python",
     "metadata": {},
     "outputs": [],
     "prompt_number": 108
    },
    {
     "cell_type": "code",
     "collapsed": false,
     "input": [
      "prior*180/pi"
     ],
     "language": "python",
     "metadata": {},
     "outputs": [
      {
       "metadata": {},
       "output_type": "pyout",
       "prompt_number": 109,
       "text": [
        "-0.0"
       ]
      }
     ],
     "prompt_number": 109
    },
    {
     "cell_type": "code",
     "collapsed": false,
     "input": [
      "135*pi/180"
     ],
     "language": "python",
     "metadata": {},
     "outputs": [
      {
       "metadata": {},
       "output_type": "pyout",
       "prompt_number": 97,
       "text": [
        "2.356194490192345"
       ]
      }
     ],
     "prompt_number": 97
    },
    {
     "cell_type": "code",
     "collapsed": false,
     "input": [
      "for x,y in list(s.run()):\n",
      "    plt.plot(x,y)\n",
      "    plt.draw()\n"
     ],
     "language": "python",
     "metadata": {},
     "outputs": [],
     "prompt_number": 121
    },
    {
     "cell_type": "code",
     "collapsed": false,
     "input": [
      "from matplotlib import animation\n",
      "\n",
      "fig = plt.figure()\n",
      "ax = plt.axes(xlim=(-7, 7), ylim=(-0, 1))\n",
      "x = []\n",
      "y = []\n",
      "line, = ax.plot(x, y, 'o',lw=2)\n",
      "\n",
      "\n",
      "def init():\n",
      "    global s, it, x, y\n",
      "    s = AdaptiveSampler(f, -7, 7, max_points = 300)\n",
      "    it = s.run()\n",
      "    x = []\n",
      "    y = []\n",
      "    line.set_data([], [])\n",
      "    return line,\n",
      "\n",
      "def animate(i):\n",
      "    point = next(it)\n",
      "    x.append(point[0])\n",
      "    y.append(point[1])\n",
      "    line.set_data(x,y)\n",
      "    return line,\n",
      "anim = animation.FuncAnimation(fig, animate, init_func = init,\n",
      "                               frames=80, interval=200, blit=True)\n"
     ],
     "language": "python",
     "metadata": {},
     "outputs": [],
     "prompt_number": 38
    },
    {
     "cell_type": "code",
     "collapsed": false,
     "input": [
      "anim = animation.FuncAnimation(fig, animate, init_func = init,\n",
      "                               frames=50, interval=200, blit=True)"
     ],
     "language": "python",
     "metadata": {},
     "outputs": [],
     "prompt_number": 31
    },
    {
     "cell_type": "code",
     "collapsed": false,
     "input": [
      "x"
     ],
     "language": "python",
     "metadata": {},
     "outputs": [
      {
       "metadata": {},
       "output_type": "pyout",
       "prompt_number": 32,
       "text": [
        "[-7.0,\n",
        " -4.6666666666666661,\n",
        " -2.333333333333333,\n",
        " 0.0,\n",
        " 2.3333333333333339,\n",
        " 4.6666666666666679,\n",
        " 7.0,\n",
        " 0.0,\n",
        " -1.166666666666667,\n",
        " 1.166666666666667,\n",
        " -1.7500000000000004,\n",
        " -2.041666666666667,\n",
        " 0.29166666666666674,\n",
        " -2.1875000000000004,\n",
        " 0.14583333333333326,\n",
        " -0.94791666666666685,\n",
        " 1.09375,\n",
        " -2.260416666666667,\n",
        " 0.072916666666666741,\n",
        " -1.057291666666667,\n",
        " 1.1302083333333335,\n",
        " -2.2968750000000004,\n",
        " 0.036458333333333259,\n",
        " -1.111979166666667,\n",
        " 1.1484375,\n",
        " -2.315104166666667,\n",
        " 0.018229166666666741,\n",
        " -1.139322916666667,\n",
        " 1.1575520833333335,\n",
        " -2.3242187500000004,\n",
        " 0.0091145833333332593,\n",
        " -1.152994791666667,\n",
        " 1.162109375,\n",
        " -2.328776041666667,\n",
        " 0.0045572916666667407,\n",
        " -1.159830729166667,\n",
        " 1.1643880208333335,\n",
        " -2.3310546875000004,\n",
        " 0.0022786458333332593,\n",
        " -0.72916666666666685,\n",
        " 1.0208333333333335,\n",
        " 0.58333333333333348,\n",
        " -0.57649739583333337,\n",
        " 1.7386067708333335,\n",
        " -0.56966145833333337,\n",
        " 1.727213541666667,\n",
        " -0.55598958333333337,\n",
        " 1.7044270833333335,\n",
        " -0.52864583333333337,\n",
        " 1.658854166666667]"
       ]
      }
     ],
     "prompt_number": 32
    },
    {
     "cell_type": "code",
     "collapsed": false,
     "input": [
      "len(x)"
     ],
     "language": "python",
     "metadata": {},
     "outputs": [
      {
       "metadata": {},
       "output_type": "pyout",
       "prompt_number": 39,
       "text": [
        "300"
       ]
      }
     ],
     "prompt_number": 39
    },
    {
     "cell_type": "code",
     "collapsed": false,
     "input": [
      "len(np.unique(x))"
     ],
     "language": "python",
     "metadata": {},
     "outputs": [
      {
       "metadata": {},
       "output_type": "pyout",
       "prompt_number": 40,
       "text": [
        "258"
       ]
      }
     ],
     "prompt_number": 40
    },
    {
     "cell_type": "code",
     "collapsed": false,
     "input": [
      "l = [1,2,3,4,5,0,-5]\n",
      "heapq.heapify(l)"
     ],
     "language": "python",
     "metadata": {},
     "outputs": [],
     "prompt_number": 45
    },
    {
     "cell_type": "code",
     "collapsed": false,
     "input": [
      "def heapchange()"
     ],
     "language": "python",
     "metadata": {},
     "outputs": [
      {
       "metadata": {},
       "output_type": "pyout",
       "prompt_number": 46,
       "text": [
        "[-5, 2, 0, 4, 5, 1, 3]"
       ]
      }
     ],
     "prompt_number": 46
    },
    {
     "cell_type": "code",
     "collapsed": false,
     "input": [],
     "language": "python",
     "metadata": {},
     "outputs": []
    }
   ],
   "metadata": {}
  }
 ]
}