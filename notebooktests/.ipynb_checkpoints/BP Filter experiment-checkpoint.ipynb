{
 "metadata": {
  "name": ""
 },
 "nbformat": 3,
 "nbformat_minor": 0,
 "worksheets": [
  {
   "cells": [
    {
     "cell_type": "code",
     "collapsed": false,
     "input": [
      "import instruments\n",
      "\n",
      "instruments.refresh_devices()\n",
      "\n",
      "osc = instruments.load_instrument('osc')\n",
      "\n",
      "def init():\n",
      "    osc.reset()\n",
      "    osc.set_probe(1,1)\n",
      "    osc.set_probe(2,1)\n",
      "    osc.set_display(2,True)\n",
      "    osc.enable_generator(1)\n",
      "    osc.autoscale_amode('current')\n",
      "    osc.set_acquire_type('AVERAGE')\n",
      "    osc.set_acquire_count(512)\n",
      "    osc.device.timeout = 100000\n",
      "    \n"
     ],
     "language": "python",
     "metadata": {},
     "outputs": [],
     "prompt_number": 1
    },
    {
     "cell_type": "code",
     "collapsed": false,
     "input": [
      "def measure(freq):\n",
      "    osc.set_generator_frequency(freq)\n",
      "    osc.autoscale()\n",
      "    \n",
      "    #time.sleep(0.003)\n",
      "    phase = float(osc.measure_phase())\n",
      "    \n",
      "    gain = float(osc.measure_amplitude(\"CHANNEL1\"))/float(osc.measure_amplitude(\"CHANNEL2\"))\n",
      "    \n",
      "    return gain, phase"
     ],
     "language": "python",
     "metadata": {},
     "outputs": [],
     "prompt_number": 4
    },
    {
     "cell_type": "code",
     "collapsed": false,
     "input": [
      "def run_experiment():\n",
      "    init()\n",
      "    \n",
      "    freqs = sorted(list(set(range(1000,10000,1000)).union(  set(range(1700,2500,100)))))\n",
      "    gain,phase = zip(*[measure(freq) for freq in freqs])\n",
      "    plt.plot(freqs,gain)\n",
      "    plt.grid()\n",
      "    plt.xlabel('Frequencia (Hz)')\n",
      "    plt.ylabel(\"Ganancia\")\n",
      "    plt.figure()\n",
      "    plt.grid()\n",
      "    plt.xlabel('Frequencia (Hz)')\n",
      "    plt.ylabel(\"Fase (\u00ba)\")\n",
      "    plt.plot(freqs,phase)\n",
      "   \n",
      "    return gain,phase"
     ],
     "language": "python",
     "metadata": {},
     "outputs": [],
     "prompt_number": 5
    },
    {
     "cell_type": "code",
     "collapsed": false,
     "input": [
      "gain, phase = run_experiment()"
     ],
     "language": "python",
     "metadata": {},
     "outputs": [],
     "prompt_number": 34
    },
    {
     "cell_type": "code",
     "collapsed": false,
     "input": [
      "init()"
     ],
     "language": "python",
     "metadata": {},
     "outputs": [],
     "prompt_number": 33
    },
    {
     "cell_type": "code",
     "collapsed": false,
     "input": [
      "%matplotlib"
     ],
     "language": "python",
     "metadata": {},
     "outputs": [
      {
       "output_type": "stream",
       "stream": "stdout",
       "text": [
        "Using matplotlib backend: Qt4Agg\n"
       ]
      }
     ],
     "prompt_number": 186
    },
    {
     "cell_type": "code",
     "collapsed": false,
     "input": [
      "import numpy as np\n",
      "x = []\n"
     ],
     "language": "python",
     "metadata": {},
     "outputs": [],
     "prompt_number": 193
    },
    {
     "cell_type": "code",
     "collapsed": false,
     "input": [
      "from scipy import integrate\n",
      "def adaptive_sampling(f, a, b, args = (), sample_over = None, integrator_kwargs = {}):\n",
      "    if not 'epsrel' in integrator_kwargs:\n",
      "        integrator_kwargs['epsrel'] = 1e-7\n",
      "    if not 'limit' in integrator_kwargs:\n",
      "        integrator_kwargs['limit'] = 3\n",
      "    \n",
      "    class local(object):\n",
      "        xs = []\n",
      "        ys = []\n",
      "        \n",
      "    def f_(x):\n",
      "        \n",
      "        y = f(x, *args)\n",
      "        local.xs.append(x)    \n",
      "        local.ys.append(y)\n",
      "        \n",
      "        if sample_over is not None:\n",
      "            return y[sample_over]\n",
      "        else:\n",
      "            return y\n",
      "    intr = integrate.quad(f_, a, b, **integrator_kwargs)\n",
      "    return local.xs, local.ys\n",
      "        \n",
      "        \n",
      "    \n",
      "    "
     ],
     "language": "python",
     "metadata": {},
     "outputs": [],
     "prompt_number": 73
    },
    {
     "cell_type": "code",
     "collapsed": false,
     "input": [
      "adaptive_sampling(measure, 100, 10000, sample_over = 0)"
     ],
     "language": "python",
     "metadata": {},
     "outputs": [
      {
       "ename": "NameError",
       "evalue": "name 'adaptive_sampling' is not defined",
       "output_type": "pyerr",
       "traceback": [
        "\u001b[1;31m---------------------------------------------------------------------------\u001b[0m\n\u001b[1;31mNameError\u001b[0m                                 Traceback (most recent call last)",
        "\u001b[1;32m<ipython-input-6-33e6a6e27564>\u001b[0m in \u001b[0;36m<module>\u001b[1;34m()\u001b[0m\n\u001b[1;32m----> 1\u001b[1;33m \u001b[0madaptive_sampling\u001b[0m\u001b[1;33m(\u001b[0m\u001b[0mmeasure\u001b[0m\u001b[1;33m,\u001b[0m \u001b[1;36m100\u001b[0m\u001b[1;33m,\u001b[0m \u001b[1;36m10000\u001b[0m\u001b[1;33m,\u001b[0m \u001b[0msample_over\u001b[0m \u001b[1;33m=\u001b[0m \u001b[1;36m0\u001b[0m\u001b[1;33m)\u001b[0m\u001b[1;33m\u001b[0m\u001b[0m\n\u001b[0m",
        "\u001b[1;31mNameError\u001b[0m: name 'adaptive_sampling' is not defined"
       ]
      }
     ],
     "prompt_number": 6
    },
    {
     "cell_type": "code",
     "collapsed": false,
     "input": [
      "x,y = adaptive_sampling(f , -7 ,7, integrator_kwargs = {'points':[0.5]})"
     ],
     "language": "python",
     "metadata": {},
     "outputs": [],
     "prompt_number": 74
    },
    {
     "cell_type": "code",
     "collapsed": false,
     "input": [
      "x,y = adaptive_sampling(f , -7 ,7,)"
     ],
     "language": "python",
     "metadata": {},
     "outputs": [],
     "prompt_number": 75
    },
    {
     "cell_type": "code",
     "collapsed": false,
     "input": [
      "plt.plot(x,y,'o')"
     ],
     "language": "python",
     "metadata": {},
     "outputs": [
      {
       "metadata": {},
       "output_type": "pyout",
       "prompt_number": 76,
       "text": [
        "[<matplotlib.lines.Line2D at 0x4976e10>]"
       ]
      }
     ],
     "prompt_number": 76
    },
    {
     "cell_type": "code",
     "collapsed": false,
     "input": [
      "len(x)"
     ],
     "language": "python",
     "metadata": {},
     "outputs": [
      {
       "metadata": {},
       "output_type": "pyout",
       "prompt_number": 55,
       "text": [
        "126"
       ]
      }
     ],
     "prompt_number": 55
    },
    {
     "cell_type": "code",
     "collapsed": false,
     "input": [
      "def adaptive_sampling(f, a, b, args = (), sample_over = None, integrator_kwargs = {}):\n",
      "    if not 'epsrel' in integrator_kwargs:\n",
      "        integrator_kwargs['epsrel'] = 1e-7\n",
      "    if not 'limit' in integrator_kwargs:\n",
      "        integrator_kwargs['limit'] = 3\n",
      "    \n",
      "    class local(object):\n",
      "        xs = []\n",
      "        ys = []\n",
      "        \n",
      "    def f_(x):\n",
      "        \n",
      "        y = f(x, *args)\n",
      "        local.xs.append(x)    \n",
      "        local.ys.append(y)\n",
      "        \n",
      "        if sample_over is not None:\n",
      "            return y[sample_over]\n",
      "        else:\n",
      "            return y\n",
      "    intr = integrate.quad(f_, a, b, **integrator_kwargs)\n",
      "    return local.xs, local.ys\n",
      "        "
     ],
     "language": "python",
     "metadata": {},
     "outputs": []
    },
    {
     "cell_type": "code",
     "collapsed": false,
     "input": [
      "import heapq\n",
      "import numpy as np\n",
      "atan2 = np.arctan2\n",
      "pi = np.pi\n",
      "class AdaptiveSampler(object):\n",
      "    def __init__(self, f, a ,b, sample_over = None, \n",
      "                 min_angle =  0.07, init_points = 7, epsilon = 0, max_depth = 10, max_points = 300):\n",
      "        self.heap = []\n",
      "        self.f = f\n",
      "        self.a = a\n",
      "        self.b = b\n",
      "        self.sample_over = sample_over\n",
      "        self.init_points = init_points\n",
      "        self.min_angle = min_angle\n",
      "        self.epsilon = epsilon\n",
      "        self.max_depth = max_depth\n",
      "        self.max_points = max_points\n",
      "        \n",
      "        \n",
      "    \n",
      "    def get_y(self,yret):\n",
      "         if self.sample_over is not None:\n",
      "            return yret[self.sample_over]\n",
      "         else:\n",
      "            return yret\n",
      "        \n",
      "    def eval_point(self, x, xp, yp, xn, yn, depth ,yret = None):\n",
      "        if yret is None:    \n",
      "            yret = self.f(x)\n",
      "        y = self.get_y(yret)\n",
      "            \n",
      "       \n",
      "        a1 = atan2(y-yp,x-xp + self.epsilon)\n",
      "        a2 = atan2(yn-y,xn-x + self.epsilon)\n",
      "        prior = -(min(np.abs(a1-a2), 2*pi-np.abs((a1-a2))))\n",
      "        if -prior > self.min_angle and depth <= self.max_depth: \n",
      "            d1 = ((x-xp)/2. , xp, yp, x, y, depth+1)\n",
      "            d2 = ((xn-x)/2., x, y, xn, yn, depth +1)\n",
      "            heapq.heappush(self.heap, (prior, d1))\n",
      "            heapq.heappush(self.heap, (prior, d2))\n",
      "            \n",
      "        return x,yret\n",
      "    \n",
      "    def run(self):\n",
      "        initx = np.linspace(self.a, self.b, self.init_points)\n",
      "        inity = []\n",
      "        for x in initx:\n",
      "            yret = self.f(x)\n",
      "            yield (x, yret)\n",
      "            inity.append(yret)\n",
      "        for (i,x) in enumerate(initx[1:-1]):\n",
      "            self.eval_point(x,\n",
      "                            initx[i-1], self.get_y(inity[i-1]),\n",
      "                            initx[i+1], self.get_y(inity[i+1]),\n",
      "                            0,inity[i])\n",
      "        \n",
      "        n_points = self.init_points\n",
      "        while n_points < self.max_points:\n",
      "            try:\n",
      "                p, d = heapq.heappop(self.heap)\n",
      "                yield self.eval_point(*d)\n",
      "                n_points += 1\n",
      "            except IndexError:\n",
      "                return\n",
      "        \n",
      "            \n",
      "            \n",
      "       \n",
      "        \n",
      "    "
     ],
     "language": "python",
     "metadata": {},
     "outputs": [],
     "prompt_number": 81
    },
    {
     "cell_type": "code",
     "collapsed": false,
     "input": [
      "from scipy import stats\n",
      "import matplotlib.pyplot as plt\n",
      "import numpy as np\n",
      "%matplotlib"
     ],
     "language": "python",
     "metadata": {},
     "outputs": [
      {
       "output_type": "stream",
       "stream": "stderr",
       "text": [
        "/usr/local/lib/python2.7/dist-packages/numpy/oldnumeric/__init__.py:11: ModuleDeprecationWarning: The oldnumeric module will be dropped in Numpy 1.9\n",
        "  warnings.warn(_msg, ModuleDeprecationWarning)\n",
        "\n"
       ]
      },
      {
       "output_type": "stream",
       "stream": "stdout",
       "text": [
        "Using matplotlib backend: Qt4Agg\n"
       ]
      }
     ],
     "prompt_number": 30
    },
    {
     "cell_type": "code",
     "collapsed": false,
     "input": [
      "x = np.linspace(-7, 7, 200)\n",
      "f = lambda x : stats.cauchy.pdf(x,0.5,.3)\n",
      "plt.plot(x,stats.cauchy.pdf(x,0.5,.3))"
     ],
     "language": "python",
     "metadata": {},
     "outputs": [
      {
       "metadata": {},
       "output_type": "pyout",
       "prompt_number": 112,
       "text": [
        "[<matplotlib.lines.Line2D at 0x593e610>]"
       ]
      }
     ],
     "prompt_number": 112
    },
    {
     "cell_type": "code",
     "collapsed": false,
     "input": [
      "s = AdaptiveSampler(f, -7, 7, max_points = 50)\n",
      "points = list(s.run())"
     ],
     "language": "python",
     "metadata": {},
     "outputs": [],
     "prompt_number": 113
    },
    {
     "cell_type": "code",
     "collapsed": false,
     "input": [
      "x,y = zip(*points)"
     ],
     "language": "python",
     "metadata": {},
     "outputs": [],
     "prompt_number": 114
    },
    {
     "cell_type": "code",
     "collapsed": false,
     "input": [
      "plt.plot(x,y, 'o')"
     ],
     "language": "python",
     "metadata": {},
     "outputs": [
      {
       "metadata": {},
       "output_type": "pyout",
       "prompt_number": 115,
       "text": [
        "[<matplotlib.lines.Line2D at 0x449c510>]"
       ]
      }
     ],
     "prompt_number": 115
    },
    {
     "cell_type": "code",
     "collapsed": false,
     "input": [
      "xp = 0\n",
      "x = 1\n",
      "xn = 2\n",
      "yp = 0\n",
      "y = 1\n",
      "yn = 2\n",
      "a1 = atan2(y-yp,x-xp)\n",
      "a2 = atan2(yn-y,xn-x)\n",
      "prior = -(min(np.abs(a1-a2), 2*pi-np.abs((a1-a2))))"
     ],
     "language": "python",
     "metadata": {},
     "outputs": [],
     "prompt_number": 108
    },
    {
     "cell_type": "code",
     "collapsed": false,
     "input": [
      "prior*180/pi"
     ],
     "language": "python",
     "metadata": {},
     "outputs": [
      {
       "metadata": {},
       "output_type": "pyout",
       "prompt_number": 109,
       "text": [
        "-0.0"
       ]
      }
     ],
     "prompt_number": 109
    },
    {
     "cell_type": "code",
     "collapsed": false,
     "input": [
      "135*pi/180"
     ],
     "language": "python",
     "metadata": {},
     "outputs": [
      {
       "metadata": {},
       "output_type": "pyout",
       "prompt_number": 97,
       "text": [
        "2.356194490192345"
       ]
      }
     ],
     "prompt_number": 97
    },
    {
     "cell_type": "code",
     "collapsed": false,
     "input": [],
     "language": "python",
     "metadata": {},
     "outputs": []
    }
   ],
   "metadata": {}
  }
 ]
}